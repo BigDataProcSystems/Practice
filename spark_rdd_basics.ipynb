{
 "cells": [
  {
   "cell_type": "markdown",
   "metadata": {},
   "source": [
    "<div style=\"font-size:18pt; padding-top:20px; text-align:center\"><b>Operations on <span style=\"font-weight:bold; color:green\">Spark RDD</span> using Python</b></div><hr>\n",
    "<div style=\"text-align:right;\">Sergei Yu. Papulin <span style=\"font-style: italic;font-weight: bold;\">(papulin_bmstu@mail.ru)</span></div>"
   ]
  },
  {
   "cell_type": "markdown",
   "metadata": {},
   "source": [
    "<a name=\"0\"></a>\n",
    "<div><span style=\"font-size:14pt; font-weight:bold\">Content</span>\n",
    "    <ol>\n",
    "        <li><a href=\"#1\">Distributed dataset</a>\n",
    "            <ol style = \"list-style-type:lower-alpha\">\n",
    "                <li><a href=\"#1a\">Transformations</a></li>\n",
    "                <li><a href=\"#1b\">Actions</a></li>\n",
    "            </ol>\n",
    "        </li>\n",
    "        <li><a href=\"#2\">Distributed dataset of (K, V) pairs</a>\n",
    "            <ol style = \"list-style-type:lower-alpha\">\n",
    "                <li><a href=\"#2a\">Transformations</a></li>\n",
    "                <li><a href=\"#2b\">Actions</a></li>\n",
    "            </ol>\n",
    "        </li>\n",
    "        <li><a href=\"#3\">References</a></li>\n",
    "    </ol>\n",
    "</div>"
   ]
  },
  {
   "cell_type": "markdown",
   "metadata": {},
   "source": [
    "<p>[OPTIONAL] <b>Environment Setup</b></p>"
   ]
  },
  {
   "cell_type": "code",
   "execution_count": null,
   "metadata": {},
   "outputs": [],
   "source": [
    "import os\n",
    "import sys\n",
    "\n",
    "os.environ[\"SPARK_HOME\"]=\"/opt/cloudera/parcels/SPARK2/lib/spark2\"\n",
    "os.environ[\"PYSPARK_PYTHON\"]=\"/opt/rh/rh-python36/root/usr/bin/python\"\n",
    "os.environ[\"PYSPARK_DRIVER_PYTHON\"]=\"/opt/rh/rh-python36/root/usr/bin/python\"\n",
    "\n",
    "spark_home = os.environ.get(\"SPARK_HOME\")\n",
    "sys.path.insert(0, os.path.join(spark_home, \"python\"))\n",
    "sys.path.insert(0, os.path.join(spark_home, \"python/lib/py4j-0.10.7-src.zip\"))"
   ]
  },
  {
   "cell_type": "markdown",
   "metadata": {},
   "source": [
    "<p>Run Spark Context</p>"
   ]
  },
  {
   "cell_type": "code",
   "execution_count": null,
   "metadata": {},
   "outputs": [],
   "source": [
    "import pyspark\n",
    "\n",
    "conf = pyspark.SparkConf() \\\n",
    "        .setAppName(\"basicOperationsRDDApp\") \\\n",
    "        .setMaster(\"yarn\") \\\n",
    "        .set(\"spark.submit.deployMode\", \"client\")\n",
    "\n",
    "sc = pyspark.SparkContext(conf=conf)"
   ]
  },
  {
   "cell_type": "markdown",
   "metadata": {},
   "source": [
    "<a name=\"1\"></a>\n",
    "<div style=\"display:table; width:100%; padding-top:10px; padding-bottom:10px; border-bottom:1px solid lightgrey\">\n",
    "    <div style=\"display:table-row\">\n",
    "        <div style=\"display:table-cell; width:80%; font-size:14pt; font-weight:bold\">1. Distributed dataset</div>\n",
    "    \t<div style=\"display:table-cell; width:20%; text-align:center; background-color:whitesmoke; border:1px solid lightgrey\"><a href=\"#0\">To Content</a></div>\n",
    "    </div>\n",
    "</div>"
   ]
  },
  {
   "cell_type": "markdown",
   "metadata": {},
   "source": [
    "<a name=\"1a\"></a>\n",
    "<div style=\"display:table; width:100%\">\n",
    "    <div style=\"display:table-row\">\n",
    "        <div style=\"display:table-cell; width:80%; font-style:italic; font-weight:bold; font-size:12pt\">\n",
    "            a. Transformations\n",
    "        </div>\n",
    "        <div style=\"display:table-cell; border:1px solid lightgrey; width:20%\">\n",
    "            <div style=\"display:table-cell; width:10%; text-align:center; background-color:whitesmoke;\">\n",
    "                <a href=\"#1\">Back</a>\n",
    "            </div>\n",
    "            <div style=\"display:table-cell; width:10%; text-align:center;\">\n",
    "                <a href=\"#1b\">Next</a>\n",
    "            </div>\n",
    "        </div>\n",
    "    </div>\n",
    "</div>"
   ]
  },
  {
   "cell_type": "markdown",
   "metadata": {},
   "source": [
    "<p>Create <b><i>RDD</i></b> from an initial list of numbers и print it using the <b><i>collect</i></b> action</p>"
   ]
  },
  {
   "cell_type": "code",
   "execution_count": null,
   "metadata": {
    "collapsed": true
   },
   "outputs": [],
   "source": [
    "# Initial list\n",
    "data = [1, 2, 3, 4, 5]"
   ]
  },
  {
   "cell_type": "code",
   "execution_count": null,
   "metadata": {},
   "outputs": [],
   "source": [
    "# Create RDD - distributed data\n",
    "data_rdd = sc.parallelize(data)\n",
    "data_rdd"
   ]
  },
  {
   "cell_type": "code",
   "execution_count": null,
   "metadata": {},
   "outputs": [],
   "source": [
    "# Collect all RDD data on the Spark driver\n",
    "data_rdd.collect()"
   ]
  },
  {
   "cell_type": "markdown",
   "metadata": {},
   "source": [
    "<p>Create <b><i>RDD</i></b> from a text file and print it using <b><i>take</i></b> action</p>"
   ]
  },
  {
   "cell_type": "code",
   "execution_count": null,
   "metadata": {
    "collapsed": true
   },
   "outputs": [],
   "source": [
    "# Path to a file in HDFS\n",
    "file_path = \"data/spark_rdd/samples_100.json\""
   ]
  },
  {
   "cell_type": "code",
   "execution_count": null,
   "metadata": {},
   "outputs": [],
   "source": [
    "# Create RDD\n",
    "data_rdd = sc.textFile(file_path)\n",
    "data_rdd"
   ]
  },
  {
   "cell_type": "code",
   "execution_count": null,
   "metadata": {},
   "outputs": [],
   "source": [
    "# Take 2 records from a RDD to the Spark driver\n",
    "data_rdd.take(2)"
   ]
  },
  {
   "cell_type": "markdown",
   "metadata": {},
   "source": [
    "<p><b><i>Map</i></b></p>"
   ]
  },
  {
   "cell_type": "code",
   "execution_count": null,
   "metadata": {
    "collapsed": true
   },
   "outputs": [],
   "source": [
    "data = [1, 2, 3, 4, 5]\n",
    "data_rdd = sc.parallelize(data)"
   ]
  },
  {
   "cell_type": "code",
   "execution_count": null,
   "metadata": {
    "collapsed": true
   },
   "outputs": [],
   "source": [
    "# Increment a value by 1\n",
    "data_map_rdd = data_rdd.map(lambda x: x + 1)"
   ]
  },
  {
   "cell_type": "code",
   "execution_count": null,
   "metadata": {},
   "outputs": [],
   "source": [
    "# Collect data on the Spark driver\n",
    "data_map_rdd.collect()"
   ]
  },
  {
   "cell_type": "markdown",
   "metadata": {},
   "source": [
    "<p><b><i>flatMap</i></b></p>"
   ]
  },
  {
   "cell_type": "code",
   "execution_count": null,
   "metadata": {
    "collapsed": true
   },
   "outputs": [],
   "source": [
    "# Create RDD\n",
    "data_rdd = sc.textFile(file_path)"
   ]
  },
  {
   "cell_type": "code",
   "execution_count": null,
   "metadata": {},
   "outputs": [],
   "source": [
    "# Take 2 records from a RDD to the Spark driver\n",
    "data_rdd.take(2)"
   ]
  },
  {
   "cell_type": "code",
   "execution_count": null,
   "metadata": {},
   "outputs": [],
   "source": [
    "data_map_rdd = data_rdd.map(lambda x: x.split(\" \"))\n",
    "data_map_rdd.take(2)"
   ]
  },
  {
   "cell_type": "code",
   "execution_count": null,
   "metadata": {},
   "outputs": [],
   "source": [
    "data_flatmap_rdd = data_rdd.flatMap(lambda x: x.split(\" \"))\n",
    "data_flatmap_rdd.take(2)"
   ]
  },
  {
   "cell_type": "markdown",
   "metadata": {},
   "source": [
    "<p><b>filter</b></p>"
   ]
  },
  {
   "cell_type": "code",
   "execution_count": null,
   "metadata": {},
   "outputs": [],
   "source": [
    "data = [1, 2, 3, 4, 5, 6, 7]\n",
    "data_rdd = sc.parallelize(data)\n",
    "data_filter_rdd = data_rdd.filter(lambda x: x % 2 == 0)\n",
    "\n",
    "data_filter_rdd.collect()"
   ]
  },
  {
   "cell_type": "markdown",
   "metadata": {},
   "source": [
    "<p><b>sortBy</b></p>"
   ]
  },
  {
   "cell_type": "code",
   "execution_count": null,
   "metadata": {},
   "outputs": [],
   "source": [
    "data = [\"f\", \"a\", \"h\", \"b\", \"c\"]\n",
    "\n",
    "data_rdd = sc.parallelize(data)\n",
    "\n",
    "data_sortby_rdd = data_rdd.sortBy(lambda x: x, ascending=False, numPartitions=3)\n",
    "data_sortby_rdd.collect()"
   ]
  },
  {
   "cell_type": "markdown",
   "metadata": {},
   "source": [
    "<p><b>sample</b></p>"
   ]
  },
  {
   "cell_type": "code",
   "execution_count": null,
   "metadata": {},
   "outputs": [],
   "source": [
    "# Sample without replacement\n",
    "data = [1, 2, 3, 4, 5, 6, 7]\n",
    "data_rdd = sc.parallelize(data)\n",
    "data_sample_rdd = data_rdd.sample(withReplacement=False, fraction=0.8) #seed=\n",
    "\n",
    "data_sample_rdd.collect()"
   ]
  },
  {
   "cell_type": "code",
   "execution_count": null,
   "metadata": {},
   "outputs": [],
   "source": [
    "# Sample with replacement\n",
    "data_sample_repl_rdd = data_rdd.sample(withReplacement=True, fraction=0.8) #seed=\n",
    "\n",
    "data_sample_repl_rdd.collect()"
   ]
  },
  {
   "cell_type": "markdown",
   "metadata": {},
   "source": [
    "<p><b>union</b></p>"
   ]
  },
  {
   "cell_type": "code",
   "execution_count": null,
   "metadata": {},
   "outputs": [],
   "source": [
    "data_1 = [1, 2, 3, 4]\n",
    "data_2 = [3, 4, 5, 6]\n",
    "\n",
    "data1_rdd = sc.parallelize(data_1)\n",
    "data2_rdd = sc.parallelize(data_2)\n",
    "\n",
    "data_union_rdd = data1_rdd.union(data2_rdd)\n",
    "\n",
    "data_union_rdd.collect()"
   ]
  },
  {
   "cell_type": "markdown",
   "metadata": {},
   "source": [
    "<p><b>intersection</b></p>"
   ]
  },
  {
   "cell_type": "code",
   "execution_count": null,
   "metadata": {},
   "outputs": [],
   "source": [
    "data_1 = [1, 2, 3, 4]\n",
    "data_2 = [3, 4, 5, 6]\n",
    "\n",
    "data1_rdd = sc.parallelize(data_1)\n",
    "data2_rdd = sc.parallelize(data_2)\n",
    "\n",
    "data_intersection_rdd = data1_rdd.intersection(data2_rdd)\n",
    "\n",
    "data_intersection_rdd.collect()"
   ]
  },
  {
   "cell_type": "markdown",
   "metadata": {},
   "source": [
    "<p><b>distinct</b></p>"
   ]
  },
  {
   "cell_type": "code",
   "execution_count": null,
   "metadata": {},
   "outputs": [],
   "source": [
    "data = [1, 2, 2, 4, 4, 6, 7]\n",
    "data_rdd = sc.parallelize(data)\n",
    "data_distinct_rdd = data_rdd.distinct()\n",
    "\n",
    "data_distinct_rdd.collect()"
   ]
  },
  {
   "cell_type": "markdown",
   "metadata": {},
   "source": [
    "<b>mapPartitions</b>"
   ]
  },
  {
   "cell_type": "code",
   "execution_count": null,
   "metadata": {},
   "outputs": [],
   "source": [
    "data = [1, 2, 3, 4, 5, 6, 7, 8, 9]\n",
    "\n",
    "def funct(partition):\n",
    "    part = list()\n",
    "    for record in partition:\n",
    "        part.append(record)\n",
    "    return [part]\n",
    "\n",
    "data_rdd = sc.parallelize(data, 3)\n",
    "data_mappart_rdd = data_rdd.mapPartitions(funct)\n",
    "data_mappart_rdd.collect()"
   ]
  },
  {
   "cell_type": "markdown",
   "metadata": {},
   "source": [
    "<b>mapPartitionsWithIndex</b>"
   ]
  },
  {
   "cell_type": "code",
   "execution_count": null,
   "metadata": {},
   "outputs": [],
   "source": [
    "data = [1, 2, 3, 4, 5, 6, 7, 8, 9]\n",
    "\n",
    "def funct(part_id, partition):\n",
    "    for record in partition:\n",
    "        yield part_id, record\n",
    "\n",
    "data_rdd = sc.parallelize(data, 3)\n",
    "data_mappart_rdd = data_rdd.mapPartitionsWithIndex(funct)\n",
    "data_mappart_rdd.collect()"
   ]
  },
  {
   "cell_type": "markdown",
   "metadata": {},
   "source": [
    "<b>cartesian</b>"
   ]
  },
  {
   "cell_type": "code",
   "execution_count": null,
   "metadata": {},
   "outputs": [],
   "source": [
    "data1 = [1, 2, 3, 4]\n",
    "data2 = [\"a\", \"b\", \"c\", \"d\"]\n",
    "\n",
    "data1_rdd = sc.parallelize(data1, 2)\n",
    "data2_rdd = sc.parallelize(data2, 2)\n",
    "\n",
    "data_cartesian_rdd = data1_rdd.cartesian(data2_rdd)\n",
    "\n",
    "data_cartesian_rdd.collect()"
   ]
  },
  {
   "cell_type": "markdown",
   "metadata": {},
   "source": [
    "<b>glom</b>"
   ]
  },
  {
   "cell_type": "code",
   "execution_count": null,
   "metadata": {},
   "outputs": [],
   "source": [
    "data = [1, 2, 3, 4, 5, 6, 7, 8, 9]\n",
    "\n",
    "data_rdd = sc.parallelize(data, 4)\n",
    "data_rdd.glom().collect()"
   ]
  },
  {
   "cell_type": "markdown",
   "metadata": {},
   "source": [
    "<b>coalesce</b>"
   ]
  },
  {
   "cell_type": "code",
   "execution_count": null,
   "metadata": {},
   "outputs": [],
   "source": [
    "data_coarse_rdd = data_rdd.coalesce(2)\n",
    "data_coarse_rdd.glom().collect()"
   ]
  },
  {
   "cell_type": "markdown",
   "metadata": {},
   "source": [
    "<b>repartition</b>"
   ]
  },
  {
   "cell_type": "code",
   "execution_count": null,
   "metadata": {},
   "outputs": [],
   "source": [
    "data = [1, 2, 3, 4, 5, 6, 7, 8, 9]\n",
    "\n",
    "data_rdd = sc.parallelize(data, 2)\n",
    "data_rdd.glom().collect()"
   ]
  },
  {
   "cell_type": "code",
   "execution_count": null,
   "metadata": {},
   "outputs": [],
   "source": [
    "data_repart_incr_rdd = data_rdd.repartition(4)\n",
    "data_repart_incr_rdd.glom().collect()"
   ]
  },
  {
   "cell_type": "markdown",
   "metadata": {},
   "source": [
    "<a name=\"1b\"></a>\n",
    "<div style=\"display:table; width:100%\">\n",
    "    <div style=\"display:table-row\">\n",
    "        <div style=\"display:table-cell; width:80%; font-style:italic; font-weight:bold; font-size:12pt\">\n",
    "            b. Actions\n",
    "        </div>\n",
    "        <div style=\"display:table-cell; border:1px solid lightgrey; width:20%\">\n",
    "            <div style=\"display:table-cell; width:10%; text-align:center; background-color:whitesmoke;\">\n",
    "                <a href=\"#1a\">Back</a>\n",
    "            </div>\n",
    "            <div style=\"display:table-cell; width:10%; text-align:center;\">\n",
    "                <a href=\"#2\">Next</a>\n",
    "            </div>\n",
    "        </div>\n",
    "    </div>\n",
    "</div>"
   ]
  },
  {
   "cell_type": "markdown",
   "metadata": {},
   "source": [
    "<b>reduce</b>"
   ]
  },
  {
   "cell_type": "code",
   "execution_count": null,
   "metadata": {},
   "outputs": [],
   "source": [
    "data = [1, 2, 3, 4, 5, 6, 7, 8, 9]\n",
    "\n",
    "data_rdd = sc.parallelize(data, 4)\n",
    "\n",
    "data_reduce = data_rdd.reduce(lambda x, y: x + y)\n",
    "data_reduce"
   ]
  },
  {
   "cell_type": "code",
   "execution_count": null,
   "metadata": {},
   "outputs": [],
   "source": [
    "def summ(x, y):\n",
    "    return x + y\n",
    "\n",
    "data_reduce = data_rdd.reduce(summ)\n",
    "data_reduce"
   ]
  },
  {
   "cell_type": "markdown",
   "metadata": {},
   "source": [
    "<b>fold</b>"
   ]
  },
  {
   "cell_type": "code",
   "execution_count": null,
   "metadata": {},
   "outputs": [],
   "source": [
    "data = [1, 2, 3, 4, 5, 6, 7, 8, 9]\n",
    "\n",
    "data_rdd = sc.parallelize(data, 4)\n",
    "\n",
    "data_fold = data_rdd.fold(0, lambda x, y: x + y)\n",
    "data_fold"
   ]
  },
  {
   "cell_type": "code",
   "execution_count": null,
   "metadata": {},
   "outputs": [],
   "source": [
    "data_fold_10 = data_rdd.fold(10, lambda x, y: x + y)\n",
    "data_fold_10"
   ]
  },
  {
   "cell_type": "markdown",
   "metadata": {},
   "source": [
    "<b>count</b>"
   ]
  },
  {
   "cell_type": "code",
   "execution_count": null,
   "metadata": {},
   "outputs": [],
   "source": [
    "data = [1, 2, 3, 4, 5, 6, 7, 8, 9]\n",
    "\n",
    "data_rdd = sc.parallelize(data, 4)\n",
    "\n",
    "data_count = data_rdd.count()\n",
    "data_count"
   ]
  },
  {
   "cell_type": "markdown",
   "metadata": {},
   "source": [
    "<p><b>countByValue</b></p>"
   ]
  },
  {
   "cell_type": "code",
   "execution_count": null,
   "metadata": {},
   "outputs": [],
   "source": [
    "pers_purchases = [\"car\", \"hotel\", \"smartphone\", \"laptop\", \"car\", \"laptop\", \"laptop\"]\n",
    "pers_purchases_rdd = sc.parallelize(pers_purchases, 2)\n",
    "\n",
    "count_value = pers_purchases_rdd.countByValue()\n",
    "count_value"
   ]
  },
  {
   "cell_type": "markdown",
   "metadata": {},
   "source": [
    "<b>first</b>"
   ]
  },
  {
   "cell_type": "code",
   "execution_count": null,
   "metadata": {},
   "outputs": [],
   "source": [
    "data = [1, 2, 3, 4, 5, 6, 7, 8, 9]\n",
    "\n",
    "data_rdd = sc.parallelize(data, 4)\n",
    "\n",
    "data_first = data_rdd.first()\n",
    "data_first"
   ]
  },
  {
   "cell_type": "markdown",
   "metadata": {},
   "source": [
    "<b>take</b>"
   ]
  },
  {
   "cell_type": "code",
   "execution_count": null,
   "metadata": {},
   "outputs": [],
   "source": [
    "data = [1, 2, 3, 4, 5, 6, 7, 8, 9]\n",
    "\n",
    "data_rdd = sc.parallelize(data, 4)\n",
    "\n",
    "data_take = data_rdd.take(5)\n",
    "data_take"
   ]
  },
  {
   "cell_type": "markdown",
   "metadata": {},
   "source": [
    "<b>takeSample</b>"
   ]
  },
  {
   "cell_type": "code",
   "execution_count": null,
   "metadata": {},
   "outputs": [],
   "source": [
    "data = [1, 2, 3, 4, 5, 6, 7, 8, 9]\n",
    "\n",
    "data_rdd = sc.parallelize(data, 4)\n",
    "\n",
    "data_take_sample = data_rdd.takeSample(withReplacement=False, num=5) #seed=\n",
    "data_take_sample"
   ]
  },
  {
   "cell_type": "markdown",
   "metadata": {},
   "source": [
    "<b>takeOrdered</b>"
   ]
  },
  {
   "cell_type": "code",
   "execution_count": null,
   "metadata": {},
   "outputs": [],
   "source": [
    "data = [5, 2, 6, 4, 1, 3, 7, 9, 8]\n",
    "\n",
    "data_rdd = sc.parallelize(data, 4)\n",
    "data_take_desc_ordered = data_rdd.takeOrdered(num=4, key=lambda x: -x)\n",
    "data_take_desc_ordered"
   ]
  },
  {
   "cell_type": "code",
   "execution_count": null,
   "metadata": {},
   "outputs": [],
   "source": [
    "data_take_asc_ordered = data_rdd.takeOrdered(num=4, key=lambda x: x)\n",
    "data_take_asc_ordered"
   ]
  },
  {
   "cell_type": "markdown",
   "metadata": {},
   "source": [
    "<b>aggregate</b>"
   ]
  },
  {
   "cell_type": "code",
   "execution_count": null,
   "metadata": {},
   "outputs": [],
   "source": [
    "data = [1, 2, 3, 4]\n",
    "data_rdd = sc.parallelize(data, 2)\n",
    "\n",
    "data_agg = data_rdd.aggregate((0, 0),\n",
    "                              (lambda x, value: (x[0] + value, x[1] + 1)),\n",
    "                              (lambda x, y: (x[0] + y[0], x[1] + y[1])))\n",
    "data_agg"
   ]
  },
  {
   "cell_type": "code",
   "execution_count": null,
   "metadata": {},
   "outputs": [],
   "source": [
    "data_agg = data_rdd.aggregate((2, 0),\n",
    "                              (lambda x, value: (x[0] + value, x[1] + 1)),\n",
    "                              (lambda x, y: (x[0] + y[0], x[1] + y[1])))\n",
    "data_agg"
   ]
  },
  {
   "cell_type": "markdown",
   "metadata": {},
   "source": [
    "<b>saveAsTextFile</b>"
   ]
  },
  {
   "cell_type": "code",
   "execution_count": null,
   "metadata": {
    "collapsed": true
   },
   "outputs": [],
   "source": [
    "output_file_path = \"data/spark_rdd/samples_100_split.json\" "
   ]
  },
  {
   "cell_type": "code",
   "execution_count": null,
   "metadata": {
    "collapsed": true
   },
   "outputs": [],
   "source": [
    "data_file_rdd = sc.textFile(file_path, 2)\n",
    "\n",
    "data_map_rdd = data_file_rdd.flatMap(lambda x: x.split())\n",
    "\n",
    "data_map_rdd.saveAsTextFile(output_file_path)"
   ]
  },
  {
   "cell_type": "code",
   "execution_count": null,
   "metadata": {},
   "outputs": [],
   "source": [
    "data_file_output_rdd = sc.textFile(output_file_path, 2)\n",
    "data_file_output_rdd.take(2)"
   ]
  },
  {
   "cell_type": "markdown",
   "metadata": {},
   "source": [
    "<p>Пример <b>WordCount</b></p>"
   ]
  },
  {
   "cell_type": "code",
   "execution_count": null,
   "metadata": {},
   "outputs": [],
   "source": [
    "data_map_pair_rdd = data_map_rdd.map(lambda x: (x, 1))\n",
    "data_map_pair_rdd.take(5)"
   ]
  },
  {
   "cell_type": "code",
   "execution_count": null,
   "metadata": {},
   "outputs": [],
   "source": [
    "data_map_pair_reduce_rdd = data_map_pair_rdd.reduceByKey(lambda x1, x2: x1+x2)\n",
    "data_map_pair_reduce_rdd.take(10)"
   ]
  },
  {
   "cell_type": "markdown",
   "metadata": {},
   "source": [
    "<a name=\"2\"></a>\n",
    "<div style=\"display:table; width:100%; padding-top:10px; padding-bottom:10px; border-bottom:1px solid lightgrey\">\n",
    "    <div style=\"display:table-row\">\n",
    "        <div style=\"display:table-cell; width:80%; font-size:14pt; font-weight:bold\">2. Distributed dataset of (K, V) pairs</div>\n",
    "    \t<div style=\"display:table-cell; width:20%; text-align:center; background-color:whitesmoke; border:1px solid lightgrey\"><a href=\"#0\">To Content</a></div>\n",
    "    </div>\n",
    "</div>"
   ]
  },
  {
   "cell_type": "markdown",
   "metadata": {},
   "source": [
    "<a name=\"2a\"></a>\n",
    "<div style=\"display:table; width:100%\">\n",
    "    <div style=\"display:table-row\">\n",
    "        <div style=\"display:table-cell; width:80%; font-style:italic; font-weight:bold; font-size:12pt\">\n",
    "            a. Transformations\n",
    "        </div>\n",
    "        <div style=\"display:table-cell; border:1px solid lightgrey; width:20%\">\n",
    "            <div style=\"display:table-cell; width:10%; text-align:center; background-color:whitesmoke;\">\n",
    "                <a href=\"#2\">Back</a>\n",
    "            </div>\n",
    "            <div style=\"display:table-cell; width:10%; text-align:center;\">\n",
    "                <a href=\"#2b\">Next</a>\n",
    "            </div>\n",
    "        </div>\n",
    "    </div>\n",
    "</div>"
   ]
  },
  {
   "cell_type": "markdown",
   "metadata": {},
   "source": [
    "<b>groupByKey</b>"
   ]
  },
  {
   "cell_type": "code",
   "execution_count": null,
   "metadata": {},
   "outputs": [],
   "source": [
    "purchases = [(1, \"car\"), (1, \"hotel\"), (1, \"smartphone\"), \n",
    "             (1, \"laptop\"), (2, \"TV\"), (2, \"car\"), \n",
    "             (3, \"laptop\"), (3, \"laptop\"), (3, \"hotel\")]\n",
    "\n",
    "purchases_rdd = sc.parallelize(purchases, 2)\n",
    "\n",
    "groupByKey_rdd = purchases_rdd.groupByKey()\n",
    "groupByKey_rdd.collect()"
   ]
  },
  {
   "cell_type": "code",
   "execution_count": null,
   "metadata": {},
   "outputs": [],
   "source": [
    "[(k, list(v)) for k, v in groupByKey_rdd.collect()]"
   ]
  },
  {
   "cell_type": "markdown",
   "metadata": {},
   "source": [
    "<b>reduceByKey</b>"
   ]
  },
  {
   "cell_type": "code",
   "execution_count": null,
   "metadata": {},
   "outputs": [],
   "source": [
    "purchases = [(1, \"car\"), (1, \"hotel\"), (1, \"smartphone\"), \n",
    "             (1, \"laptop\"), (2, \"TV\"), (2, \"car\"), \n",
    "             (3, \"laptop\"), (3, \"laptop\"), (3, \"hotel\")]\n",
    "\n",
    "purchases_rdd = sc.parallelize(purchases, 2)\n",
    "\n",
    "reduce_key_rdd = purchases_rdd.reduceByKey(lambda x, y: x + \" \" + y)\n",
    "\n",
    "reduce_key_rdd.collect()"
   ]
  },
  {
   "cell_type": "markdown",
   "metadata": {},
   "source": [
    "<b>foldByKey</b>"
   ]
  },
  {
   "cell_type": "code",
   "execution_count": null,
   "metadata": {},
   "outputs": [],
   "source": [
    "purchases = [(1, \"car\"), (1, \"hotel\"), (1, \"smartphone\"), \n",
    "             (1, \"laptop\"), (2, \"TV\"), (2, \"car\"), \n",
    "             (3, \"laptop\"), (3, \"laptop\"), (3, \"hotel\")]\n",
    "\n",
    "purchases_rdd = sc.parallelize(purchases, 2)\n",
    "\n",
    "reduce_key_rdd = purchases_rdd.foldByKey(\"x\", lambda x, y: x + \" \" + y)\n",
    "\n",
    "reduce_key_rdd.collect()"
   ]
  },
  {
   "cell_type": "markdown",
   "metadata": {},
   "source": [
    "<b>distinct</b>"
   ]
  },
  {
   "cell_type": "code",
   "execution_count": null,
   "metadata": {},
   "outputs": [],
   "source": [
    "persons = [(1, \"Ivanov\"), (2, \"Petrov\"), (3, \"Jamson\"), (4, \"Black\"), (4, \"Black\")]\n",
    "persons_rdd = sc.parallelize(persons, 2)\n",
    "\n",
    "map_rdd = persons_rdd.distinct()\n",
    "map_rdd.collect()"
   ]
  },
  {
   "cell_type": "markdown",
   "metadata": {},
   "source": [
    "<b>keys</b>"
   ]
  },
  {
   "cell_type": "code",
   "execution_count": null,
   "metadata": {},
   "outputs": [],
   "source": [
    "data = [(\"f\", 2), (\"a\", 3), (\"h\", 5), (\"b\", 6), (\"c\", 1)]\n",
    "\n",
    "data_rdd = sc.parallelize(data)\n",
    "\n",
    "data_keys_rdd = data_rdd.keys()\n",
    "data_keys_rdd.collect()"
   ]
  },
  {
   "cell_type": "markdown",
   "metadata": {},
   "source": [
    "<b>values</b>"
   ]
  },
  {
   "cell_type": "code",
   "execution_count": null,
   "metadata": {},
   "outputs": [],
   "source": [
    "data = [(\"f\", 2), (\"a\", 3), (\"h\", 5), (\"b\", 6), (\"c\", 1)]\n",
    "\n",
    "data_rdd = sc.parallelize(data)\n",
    "\n",
    "data_values_rdd = data_rdd.values()\n",
    "data_values_rdd.collect()"
   ]
  },
  {
   "cell_type": "markdown",
   "metadata": {},
   "source": [
    "<b>mapValues</b>"
   ]
  },
  {
   "cell_type": "code",
   "execution_count": null,
   "metadata": {},
   "outputs": [],
   "source": [
    "data = [(\"f\", 2), (\"a\", 3), (\"h\", 5), (\"b\", 6), (\"c\", 1)]\n",
    "\n",
    "data_rdd = sc.parallelize(data)\n",
    "data_mapValue_rdd = data_rdd.mapValues(lambda x: x + 10)\n",
    "data_mapValue_rdd.collect()"
   ]
  },
  {
   "cell_type": "markdown",
   "metadata": {},
   "source": [
    "<b>flatMapValues</b>"
   ]
  },
  {
   "cell_type": "code",
   "execution_count": null,
   "metadata": {},
   "outputs": [],
   "source": [
    "data = [(\"f\", [2, 1]), (\"a\", [3,1]), (\"h\", [3,4,5]), (\"b\", [6]), (\"c\", [1])]\n",
    "\n",
    "data_rdd = sc.parallelize(data)\n",
    "data_mapValue_rdd = data_rdd.flatMapValues(lambda x: x)\n",
    "data_mapValue_rdd.collect()"
   ]
  },
  {
   "cell_type": "markdown",
   "metadata": {},
   "source": [
    "<b>join</b>"
   ]
  },
  {
   "cell_type": "code",
   "execution_count": null,
   "metadata": {},
   "outputs": [],
   "source": [
    "persons = [(1, \"Ivanov\"), (2, \"Petrov\"), (3, \"Jamson\"), (4, \"Black\")]\n",
    "purchases = [(1, \"car\"), (1, \"hotel\"), (1, \"smartphone\"), (1, \"laptop\"), (2, \"TV\"), \n",
    "             (2, \"car\"), (3, \"laptop\"), (3, \"laptop\"), (3, \"hotel\"), (5, \"TV\")]\n",
    "\n",
    "persons_rdd = sc.parallelize(persons, 2)\n",
    "purchases_rdd = sc.parallelize(purchases, 4)\n",
    "\n",
    "join_rdd = persons_rdd.join(purchases_rdd, numPartitions=2)\n",
    "join_rdd.collect()"
   ]
  },
  {
   "cell_type": "code",
   "execution_count": null,
   "metadata": {},
   "outputs": [],
   "source": [
    "join_left_rdd = persons_rdd.leftOuterJoin(purchases_rdd, numPartitions=2)\n",
    "join_left_rdd.collect()"
   ]
  },
  {
   "cell_type": "code",
   "execution_count": null,
   "metadata": {},
   "outputs": [],
   "source": [
    "join_right_rdd = persons_rdd.rightOuterJoin(purchases_rdd, numPartitions=2)\n",
    "join_right_rdd.collect()"
   ]
  },
  {
   "cell_type": "markdown",
   "metadata": {},
   "source": [
    "<b>cogroup</b>"
   ]
  },
  {
   "cell_type": "code",
   "execution_count": null,
   "metadata": {},
   "outputs": [],
   "source": [
    "persons = [(1, \"Ivanov\"), (2, \"Petrov\"), (3, \"Jamson\"), (4, \"Black\")]\n",
    "purchases = [(1, \"car\"), (1, \"hotel\"), (1, \"smartphone\"), (1, \"laptop\"), (2, \"TV\"), \n",
    "             (2, \"car\"), (3, \"laptop\"), (3, \"laptop\"), (3, \"hotel\"), (5, \"TV\")]\n",
    "\n",
    "cogroup_rdd = persons_rdd.cogroup(purchases_rdd, numPartitions=2)\n",
    "\n",
    "cogroup_rdd.collect()"
   ]
  },
  {
   "cell_type": "code",
   "execution_count": null,
   "metadata": {},
   "outputs": [],
   "source": [
    "[(k, [list(el) for el in v]) for k, v in cogroup_rdd.collect()]"
   ]
  },
  {
   "cell_type": "markdown",
   "metadata": {},
   "source": [
    "<b>partitionBy</b>"
   ]
  },
  {
   "cell_type": "code",
   "execution_count": null,
   "metadata": {},
   "outputs": [],
   "source": [
    "purchases_price = [(\"car\", 1), (\"hotel\", 2), (\"smartphone\", 2), (\"laptop\", 3), (\"TV\", 4), \n",
    "                   (\"car\", 2), (\"laptop\", 1), (\"laptop\", 3), (\"hotel\", 1)]\n",
    "purchases_price_rdd = sc.parallelize(purchases_price, 2)\n",
    "\n",
    "purchases_price_rdd.glom().collect()"
   ]
  },
  {
   "cell_type": "code",
   "execution_count": null,
   "metadata": {},
   "outputs": [],
   "source": [
    "part_rdd = purchases_price_rdd.partitionBy(2)\n",
    "part_rdd.glom().collect()"
   ]
  },
  {
   "cell_type": "markdown",
   "metadata": {},
   "source": [
    "<b>aggregateByKey</b>"
   ]
  },
  {
   "cell_type": "code",
   "execution_count": null,
   "metadata": {},
   "outputs": [],
   "source": [
    "pers_purchases = [(\"car\", 1), (\"hotel\", 2), (\"smartphone\", 2), \n",
    "                  (\"laptop\", 3), (\"TV\", 4), (\"car\", 2), \n",
    "                  (\"laptop\", 1), (\"laptop\", 3), (\"hotel\", 1)]\n",
    "\n",
    "pers_purchases_rdd = sc.parallelize(pers_purchases, 4)\n",
    "\n",
    "agg_key_rdd = pers_purchases_rdd.aggregateByKey((0, 0), \n",
    "                                                (lambda x, value: (x[0] + value, x[1] + 1)), \n",
    "                                                (lambda x, y: (x[0] + y[0], x[1] + y[1])))\n",
    "agg_key_rdd.collect()"
   ]
  },
  {
   "cell_type": "markdown",
   "metadata": {},
   "source": [
    "<b>combineByKey</b>"
   ]
  },
  {
   "cell_type": "code",
   "execution_count": null,
   "metadata": {},
   "outputs": [],
   "source": [
    "purchases_price = [(\"car\", 1.0), (\"hotel\", 2.0), (\"smartphone\", 2.0), \n",
    "                   (\"laptop\", 3.0), (\"TV\", 4.0), (\"car\", 2.0), \n",
    "                   (\"laptop\", 1.0), (\"laptop\", 3.0), (\"hotel\", 1.0)]\n",
    "\n",
    "purchases_price_rdd = sc.parallelize(purchases_price, 4).persist()\n",
    "\n",
    "purchases_price_rdd.glom().collect()"
   ]
  },
  {
   "cell_type": "code",
   "execution_count": null,
   "metadata": {},
   "outputs": [],
   "source": [
    "combine_key_rdd = purchases_price_rdd.combineByKey((lambda value: (value, 1)), \n",
    "                                                  (lambda x, value: (x[0] + value, x[1] + 1)), \n",
    "                                                  (lambda x, y: (x[0] + y[0], x[1] + y[1])))\n",
    "combine_key_rdd.collect()"
   ]
  },
  {
   "cell_type": "code",
   "execution_count": null,
   "metadata": {},
   "outputs": [],
   "source": [
    "combine_key_rdd = purchases_price_rdd.combineByKey((lambda value: (value, 2)), \n",
    "                                                  (lambda x, value: (x[0] + value, x[1] + 1)), \n",
    "                                                  (lambda x, y: (x[0] + y[0], x[1] + y[1])))\n",
    "combine_key_rdd.collect()"
   ]
  },
  {
   "cell_type": "markdown",
   "metadata": {},
   "source": [
    "<b>sortByKey</b>"
   ]
  },
  {
   "cell_type": "code",
   "execution_count": null,
   "metadata": {},
   "outputs": [],
   "source": [
    "data = [(\"f\", 2), (\"a\", 3), (\"h\", 5), (\"b\", 6), (\"c\", 1)]\n",
    "\n",
    "data_rdd = sc.parallelize(data)\n",
    "\n",
    "data_sortbykey_rdd = data_rdd.sortByKey(ascending=True, numPartitions=3)\n",
    "data_sortbykey_rdd.collect()"
   ]
  },
  {
   "cell_type": "markdown",
   "metadata": {},
   "source": [
    "<b>sortBy</b>"
   ]
  },
  {
   "cell_type": "code",
   "execution_count": null,
   "metadata": {},
   "outputs": [],
   "source": [
    "data = [(\"f\", 2), (\"a\", 3), (\"h\", 5), (\"b\", 6), (\"c\", 1)]\n",
    "\n",
    "data_rdd = sc.parallelize(data)\n",
    "\n",
    "data_sortby_rdd = data_rdd.sortBy(lambda x: x[0], ascending=True, numPartitions=3)\n",
    "data_sortby_rdd.collect()"
   ]
  },
  {
   "cell_type": "code",
   "execution_count": null,
   "metadata": {},
   "outputs": [],
   "source": [
    "data_sortby_rdd = data_rdd.sortBy(lambda x: x[1], ascending=True, numPartitions=3)\n",
    "data_sortby_rdd.collect()"
   ]
  },
  {
   "cell_type": "markdown",
   "metadata": {},
   "source": [
    "<a name=\"2b\"></a>\n",
    "<div style=\"display:table; width:100%\">\n",
    "    <div style=\"display:table-row\">\n",
    "        <div style=\"display:table-cell; width:80%; font-style:italic; font-weight:bold; font-size:12pt\">\n",
    "            b. Actions\n",
    "        </div>\n",
    "        <div style=\"display:table-cell; border:1px solid lightgrey; width:20%\">\n",
    "            <div style=\"display:table-cell; width:10%; text-align:center; background-color:whitesmoke;\">\n",
    "                <a href=\"#2a\">Back</a>\n",
    "            </div>\n",
    "            <div style=\"display:table-cell; width:10%; text-align:center;\">\n",
    "                <a href=\"#3\">Next</a>\n",
    "            </div>\n",
    "        </div>\n",
    "    </div>\n",
    "</div>"
   ]
  },
  {
   "cell_type": "markdown",
   "metadata": {},
   "source": [
    "<b>countByKey</b>"
   ]
  },
  {
   "cell_type": "code",
   "execution_count": null,
   "metadata": {},
   "outputs": [],
   "source": [
    "purchases = [(1, \"car\"), (1, \"hotel\"), (1, \"smartphone\"), \n",
    "             (1, \"laptop\"), (2, \"TV\"), (2, \"car\"), \n",
    "             (3, \"laptop\"), (3, \"laptop\"), (3, \"hotel\")]\n",
    "\n",
    "purchases_rdd = sc.parallelize(purchases, 2)\n",
    "\n",
    "count_key = purchases_rdd.countByKey()\n",
    "\n",
    "count_key"
   ]
  },
  {
   "cell_type": "markdown",
   "metadata": {},
   "source": [
    "<b>takeOrdered</b>"
   ]
  },
  {
   "cell_type": "code",
   "execution_count": null,
   "metadata": {},
   "outputs": [],
   "source": [
    "data = [(\"f\", 2), (\"a\", 3), (\"h\", 5), (\"b\", 6), (\"c\", 1)]\n",
    "\n",
    "data_rdd = sc.parallelize(data)\n",
    "take_ordered = data_rdd.takeOrdered(5, key = lambda x: -x[1])\n",
    "take_ordered"
   ]
  },
  {
   "cell_type": "markdown",
   "metadata": {},
   "source": [
    "<a name=\"3\"></a>\n",
    "<div style=\"display:table; width:100%; padding-top:10px; padding-bottom:10px; border-bottom:1px solid lightgrey\">\n",
    "    <div style=\"display:table-row\">\n",
    "        <div style=\"display:table-cell; width:80%; font-size:14pt; font-weight:bold\">3. References</div>\n",
    "    \t<div style=\"display:table-cell; width:20%; text-align:center; background-color:whitesmoke; border:1px solid lightgrey\"><a href=\"#0\">To content</a></div>\n",
    "    </div>\n",
    "</div>"
   ]
  },
  {
   "cell_type": "markdown",
   "metadata": {},
   "source": [
    "<a href=\"http://spark.apache.org/docs/latest/api/python/pyspark.html#module-pyspark\">pyspark package</a><br>\n",
    "<a href=\"http://spark.apache.org/docs/latest/programming-guide.html\">Spark Programming Guide</a>"
   ]
  },
  {
   "cell_type": "code",
   "execution_count": null,
   "metadata": {
    "collapsed": true
   },
   "outputs": [],
   "source": []
  }
 ],
 "metadata": {
  "kernelspec": {
   "display_name": "Python 3",
   "language": "python",
   "name": "python3"
  },
  "language_info": {
   "codemirror_mode": {
    "name": "ipython",
    "version": 3
   },
   "file_extension": ".py",
   "mimetype": "text/x-python",
   "name": "python",
   "nbconvert_exporter": "python",
   "pygments_lexer": "ipython3",
   "version": "3.6.3"
  },
  "widgets": {
   "state": {},
   "version": "1.1.2"
  }
 },
 "nbformat": 4,
 "nbformat_minor": 1
}
