{
 "cells": [
  {
   "cell_type": "markdown",
   "metadata": {},
   "source": [
    "<div style=\"font-size:18pt; padding-top:20px; text-align:center\"><b>Bikeshare and </b> <span style=\"font-weight:bold; color:green\">Spark DataFrames</span></div><hr>\n",
    "<div style=\"text-align:right;\">Sergei Papulin <span style=\"font-style: italic;font-weight: bold;\">(papulin_bmstu@mail.ru)</span></div>"
   ]
  },
  {
   "cell_type": "markdown",
   "metadata": {},
   "source": [
    "<a name=\"0\"></a>\n",
    "<div><span style=\"font-size:14pt; font-weight:bold\">Contents</span>\n",
    "    <ol>\n",
    "        <li><a href=\"#1\">Bike Trips</a></li>\n",
    "        <li><a href=\"#2\">NYC Zones</a></li>\n",
    "        <li><a href=\"#3\">Number of Stations per Zone</a></li>\n",
    "        <li><a href=\"#4\">Calculating out-degrees</a></li>\n",
    "        <li><a href=\"#5\">References</a></li>\n",
    "    </ol>\n",
    "</div>"
   ]
  },
  {
   "cell_type": "markdown",
   "metadata": {},
   "source": [
    "Install the `geopandas` and `rtree` python libraries:\n",
    "\n",
    "`pip install geopandas==0.8 rtree`\n",
    "\n",
    "**Warning.** If threre are some errors, one of possible solutions is to upgrade pip:  `pip install --upgrade pip`"
   ]
  },
  {
   "cell_type": "code",
   "execution_count": null,
   "metadata": {},
   "outputs": [],
   "source": [
    "# !/home/ubuntu/ML/anaconda3/bin/pip install geopandas==0.8 rtree"
   ]
  },
  {
   "cell_type": "code",
   "execution_count": null,
   "metadata": {},
   "outputs": [],
   "source": [
    "import json\n",
    "import pandas as pd\n",
    "import geopandas as gpd\n",
    "from shapely.geometry import Point, Polygon, MultiPolygon\n",
    "from geopandas.tools import sjoin"
   ]
  },
  {
   "cell_type": "markdown",
   "metadata": {},
   "source": [
    "Install the `Folium` python library to plot maps:\n",
    "\n",
    "`pip install folium`"
   ]
  },
  {
   "cell_type": "code",
   "execution_count": null,
   "metadata": {},
   "outputs": [],
   "source": [
    "# !/home/ubuntu/ML/anaconda3/bin/pip install folium"
   ]
  },
  {
   "cell_type": "code",
   "execution_count": null,
   "metadata": {},
   "outputs": [],
   "source": [
    "import folium\n",
    "from folium.plugins import HeatMap, HeatMapWithTime"
   ]
  },
  {
   "cell_type": "code",
   "execution_count": null,
   "metadata": {},
   "outputs": [],
   "source": [
    "# https://github.com/python-visualization/folium/issues/812\n",
    "def embed_map(m):\n",
    "    from IPython.display import IFrame\n",
    "    m.save('index.html')\n",
    "    return IFrame('index.html', width='100%', height='750px')"
   ]
  },
  {
   "cell_type": "markdown",
   "metadata": {},
   "source": [
    "[OPTIONAL] **Environment Setup**"
   ]
  },
  {
   "cell_type": "code",
   "execution_count": null,
   "metadata": {},
   "outputs": [],
   "source": [
    "import os\n",
    "import sys\n",
    "\n",
    "os.environ[\"SPARK_HOME\"]=\"/home/ubuntu/BigData/spark\"\n",
    "os.environ[\"PYSPARK_PYTHON\"]=\"/home/ubuntu/ML/anaconda3/bin/python\"\n",
    "os.environ[\"PYSPARK_DRIVER_PYTHON\"]=\"/home/ubuntu/ML/anaconda3/bin/python\"\n",
    "\n",
    "spark_home = os.environ.get(\"SPARK_HOME\")\n",
    "sys.path.insert(0, os.path.join(spark_home, \"python\"))\n",
    "sys.path.insert(0, os.path.join(spark_home, \"python/lib/py4j-0.10.7-src.zip\"))"
   ]
  },
  {
   "cell_type": "markdown",
   "metadata": {},
   "source": [
    "Run Spark Context"
   ]
  },
  {
   "cell_type": "code",
   "execution_count": null,
   "metadata": {},
   "outputs": [],
   "source": [
    "import pyspark\n",
    "from pyspark.sql import SparkSession, Row"
   ]
  },
  {
   "cell_type": "code",
   "execution_count": null,
   "metadata": {},
   "outputs": [],
   "source": [
    "# packages = \"graphframes:graphframes:0.6.0-spark2.3-s_2.11\"\n",
    "# packages = \"graphframes:graphframes:0.8.1-spark2.4-s_2.11\""
   ]
  },
  {
   "cell_type": "code",
   "execution_count": null,
   "metadata": {},
   "outputs": [],
   "source": [
    "conf = pyspark.SparkConf() \\\n",
    "        .set(\"spark.driver.memory\", \"2g\") \\\n",
    "        .set(\"spark.executor.memory\", \"1g\") \\\n",
    "        .set(\"spark.executor.core\", \"2\") \\\n",
    "        .setAppName(\"bikeGraphApp\") \\\n",
    "        .setMaster(\"local[4]\")"
   ]
  },
  {
   "cell_type": "code",
   "execution_count": null,
   "metadata": {},
   "outputs": [],
   "source": [
    "spark = SparkSession \\\n",
    "    .builder \\\n",
    "    .config(conf=conf) \\\n",
    "    .getOrCreate()"
   ]
  },
  {
   "cell_type": "code",
   "execution_count": null,
   "metadata": {},
   "outputs": [],
   "source": [
    "import pyspark.sql.functions as F\n",
    "from pyspark.sql.types import (\n",
    "    StructType, \n",
    "    StructField, \n",
    "    StringType, \n",
    "    IntegerType, \n",
    "    DoubleType\n",
    ")"
   ]
  },
  {
   "cell_type": "code",
   "execution_count": null,
   "metadata": {},
   "outputs": [],
   "source": [
    "# import graphframes as gf"
   ]
  },
  {
   "cell_type": "markdown",
   "metadata": {},
   "source": [
    "<a name=\"1\"></a>\n",
    "<div style=\"display:table; width:100%; padding-top:10px; padding-bottom:10px; border-bottom:1px solid lightgrey\">\n",
    "    <div style=\"display:table-row\">\n",
    "        <div style=\"display:table-cell; width:80%; font-size:14pt; font-weight:bold\">1. Bike Trips</div>\n",
    "    \t<div style=\"display:table-cell; width:20%; text-align:center; background-color:whitesmoke; border:1px solid lightgrey\"><a href=\"#0\">To contents</a></div>\n",
    "    </div>\n",
    "</div>"
   ]
  },
  {
   "cell_type": "markdown",
   "metadata": {},
   "source": [
    "Trips (bikeshare): <a href=\"https://s3.amazonaws.com/tripdata/201902-citibike-tripdata.csv.zip\">data</a> | <a href=\"https://www.citibikenyc.com/system-data\">description</a><br>"
   ]
  },
  {
   "cell_type": "code",
   "execution_count": null,
   "metadata": {},
   "outputs": [],
   "source": [
    "BASE_PATH = \"/home/ubuntu/BigData/datasets\""
   ]
  },
  {
   "cell_type": "code",
   "execution_count": null,
   "metadata": {},
   "outputs": [],
   "source": [
    "trips_data_path = \"file://{}/201902-citibike-tripdata.csv\".format(BASE_PATH)"
   ]
  },
  {
   "cell_type": "markdown",
   "metadata": {},
   "source": [
    "[OPTIONAL] Copy the local dataset to HDFS"
   ]
  },
  {
   "cell_type": "code",
   "execution_count": null,
   "metadata": {},
   "outputs": [],
   "source": [
    "df_trips = spark.read.load(trips_data_path, \n",
    "                           format=\"csv\", \n",
    "                           header=\"true\", \n",
    "                           inferSchema=\"true\",\n",
    "                           sep=\",\")\n",
    "\n",
    "print(\"Total number of trips:\", df_trips.count())\n",
    "df_trips.show(5, truncate=True)"
   ]
  },
  {
   "cell_type": "code",
   "execution_count": null,
   "metadata": {},
   "outputs": [],
   "source": [
    "df_stations_start = df_trips.select(F.col(\"start station id\").alias(\"id\"), \n",
    "                              F.col(\"start station latitude\").alias(\"lat\"), \n",
    "                              F.col(\"start station longitude\").alias(\"lng\"))\\\n",
    "                            .distinct()\n",
    "\n",
    "df_stations_end = df_trips.select(F.col(\"end station id\").alias(\"id\"), \n",
    "                              F.col(\"end station latitude\").alias(\"lat\"), \n",
    "                              F.col(\"end station longitude\").alias(\"lng\"))\\\n",
    "                            .distinct()\n",
    "\n",
    "df_stations = df_stations_start.union(df_stations_end).distinct()\n",
    "\n",
    "print(\"Number of stations:\", df_stations.count())\n",
    "print(\"Number of partitions:\", df_stations.rdd.getNumPartitions())\n",
    "print(\"Mean of partition size:\", df_stations.rdd.mapPartitions(lambda x: [sum(1 for _ in x)]).mean())\n",
    "\n",
    "df_stations.show(5)"
   ]
  },
  {
   "cell_type": "markdown",
   "metadata": {},
   "source": [
    "Reduce the number of partitions:"
   ]
  },
  {
   "cell_type": "code",
   "execution_count": null,
   "metadata": {},
   "outputs": [],
   "source": [
    "df_stations = df_stations.coalesce(4)\n",
    "df_stations.persist().count()\n",
    "df_stations.rdd.getNumPartitions()"
   ]
  },
  {
   "cell_type": "code",
   "execution_count": null,
   "metadata": {},
   "outputs": [],
   "source": [
    "df_stations.show(5)"
   ]
  },
  {
   "cell_type": "markdown",
   "metadata": {},
   "source": [
    "Plot the stations on map"
   ]
  },
  {
   "cell_type": "code",
   "execution_count": null,
   "metadata": {},
   "outputs": [],
   "source": [
    "m = folium.Map()"
   ]
  },
  {
   "cell_type": "code",
   "execution_count": null,
   "metadata": {},
   "outputs": [],
   "source": [
    "df_stations.toPandas().head(5)"
   ]
  },
  {
   "cell_type": "code",
   "execution_count": null,
   "metadata": {
    "scrolled": false
   },
   "outputs": [],
   "source": [
    "for index, row in df_stations.toPandas().iterrows():\n",
    "    folium.CircleMarker(location=(row[\"lat\"], row[\"lng\"]),\n",
    "                        weight=1,\n",
    "                        radius= 5,\n",
    "                        color=\"seagreen\",\n",
    "                        fill_color=\"seagreen\",\n",
    "                        fill_opacity=0.5,\n",
    "                        fill=True).add_to(m)\n",
    "m.fit_bounds(m.get_bounds())\n",
    "embed_map(m)"
   ]
  },
  {
   "cell_type": "markdown",
   "metadata": {},
   "source": [
    "<a name=\"2\"></a>\n",
    "<div style=\"display:table; width:100%; padding-top:10px; padding-bottom:10px; border-bottom:1px solid lightgrey\">\n",
    "    <div style=\"display:table-row\">\n",
    "        <div style=\"display:table-cell; width:80%; font-size:14pt; font-weight:bold\">2. NYC Zones</div>\n",
    "    \t<div style=\"display:table-cell; width:20%; text-align:center; background-color:whitesmoke; border:1px solid lightgrey\"><a href=\"#0\">To contents</a></div>\n",
    "    </div>\n",
    "</div>"
   ]
  },
  {
   "cell_type": "markdown",
   "metadata": {},
   "source": [
    "NYC zones: <a href=\"https://data.cityofnewyork.us/api/geospatial/d3c5-ddgc?method=export&format=GeoJSON\">data</a>"
   ]
  },
  {
   "cell_type": "code",
   "execution_count": null,
   "metadata": {},
   "outputs": [],
   "source": [
    "borough_data_path = BASE_PATH + \"/NYC Taxi Zones.geojson\""
   ]
  },
  {
   "cell_type": "markdown",
   "metadata": {},
   "source": [
    "Plot the NYC zones"
   ]
  },
  {
   "cell_type": "code",
   "execution_count": null,
   "metadata": {},
   "outputs": [],
   "source": [
    "style_function = lambda x: {\n",
    "    \"color\" : \"orange\",\n",
    "    \"weight\": 1\n",
    "}\n",
    "\n",
    "folium.GeoJson(borough_data_path, name=\"geojson\", style_function=style_function).add_to(m)\n",
    "m.fit_bounds(m.get_bounds())\n",
    "embed_map(m)"
   ]
  },
  {
   "cell_type": "markdown",
   "metadata": {},
   "source": [
    "Convert the `zones` GeoJson to GeoDataFrame:"
   ]
  },
  {
   "cell_type": "code",
   "execution_count": null,
   "metadata": {},
   "outputs": [],
   "source": [
    "with open(borough_data_path) as f:\n",
    "    zones_geojson = json.load(f)"
   ]
  },
  {
   "cell_type": "code",
   "execution_count": null,
   "metadata": {},
   "outputs": [],
   "source": [
    "zones_geojson"
   ]
  },
  {
   "cell_type": "code",
   "execution_count": null,
   "metadata": {},
   "outputs": [],
   "source": [
    "column_name_list = [key for key, _ in zones_geojson[\"features\"][0][\"properties\"].items()]\n",
    "column_name_list += [\"geometry\"]\n",
    "column_name_list"
   ]
  },
  {
   "cell_type": "code",
   "execution_count": null,
   "metadata": {},
   "outputs": [],
   "source": [
    "def create_zone_rows(features):\n",
    "    for item in features:\n",
    "        row = list()\n",
    "        for key, value in item[\"properties\"].items():\n",
    "            row.append(value)        \n",
    "        polygons = list()\n",
    "        for polygon in item[\"geometry\"][\"coordinates\"]:\n",
    "            polygons.append(Polygon(polygon[0]))\n",
    "        row.append(MultiPolygon(polygons=polygons))\n",
    "        yield row"
   ]
  },
  {
   "cell_type": "markdown",
   "metadata": {},
   "source": [
    "DataFrame:"
   ]
  },
  {
   "cell_type": "code",
   "execution_count": null,
   "metadata": {
    "scrolled": true
   },
   "outputs": [],
   "source": [
    "df_zones_pn = pd.DataFrame(data=create_zone_rows(zones_geojson[\"features\"]), \n",
    "                           columns=column_name_list)\n",
    "df_zones_pn.head(5)"
   ]
  },
  {
   "cell_type": "markdown",
   "metadata": {},
   "source": [
    "GeoDataFrame:"
   ]
  },
  {
   "cell_type": "code",
   "execution_count": null,
   "metadata": {},
   "outputs": [],
   "source": [
    "gdf_zones = gpd.GeoDataFrame(df_zones_pn, geometry=df_zones_pn[\"geometry\"])\n",
    "gdf_zones.head(5)"
   ]
  },
  {
   "cell_type": "markdown",
   "metadata": {},
   "source": [
    "<a name=\"3\"></a>\n",
    "<div style=\"display:table; width:100%; padding-top:10px; padding-bottom:10px; border-bottom:1px solid lightgrey\">\n",
    "    <div style=\"display:table-row\">\n",
    "        <div style=\"display:table-cell; width:80%; font-size:14pt; font-weight:bold\">3. Number of Stations per Zone</div>\n",
    "    \t<div style=\"display:table-cell; width:20%; text-align:center; background-color:whitesmoke; border:1px solid lightgrey\"><a href=\"#0\">To contents</a></div>\n",
    "    </div>\n",
    "</div>"
   ]
  },
  {
   "cell_type": "code",
   "execution_count": null,
   "metadata": {},
   "outputs": [],
   "source": [
    "df_stations_pn = df_stations.toPandas()\n",
    "df_stations_pn.head(5)"
   ]
  },
  {
   "cell_type": "markdown",
   "metadata": {},
   "source": [
    "#### Approach 0 \n",
    "\n",
    "Just out of curiosity, here is pandas alternative. This approach is reasonable if there is a modest dataset like in the task considered:"
   ]
  },
  {
   "cell_type": "code",
   "execution_count": null,
   "metadata": {},
   "outputs": [],
   "source": [
    "# %%timeit -n1\n",
    "df_stations_pn = df_stations.toPandas()\n",
    "points = gpd.GeoDataFrame(df_stations_pn,\n",
    "                          geometry=gpd.points_from_xy(df_stations_pn[\"lng\"], \n",
    "                                                      df_stations_pn[\"lat\"]))\n",
    "points.head()"
   ]
  },
  {
   "cell_type": "code",
   "execution_count": null,
   "metadata": {},
   "outputs": [],
   "source": [
    "# Spatial join\n",
    "gdf_join = sjoin(points[[\"geometry\"]], gdf_zones, how=\"left\")\n",
    "gdf_join.head(5)"
   ]
  },
  {
   "cell_type": "code",
   "execution_count": null,
   "metadata": {},
   "outputs": [],
   "source": [
    "# Grouping and get a group for the ('100', 'Garment District') zone\n",
    "sjoin(points[[\"geometry\"]], gdf_zones, how=\"left\")\\\n",
    "    .groupby([\"location_id\", \"zone\"])\\\n",
    "    .get_group(('100', 'Garment District'))\\\n",
    "    .head(5)"
   ]
  },
  {
   "cell_type": "code",
   "execution_count": null,
   "metadata": {},
   "outputs": [],
   "source": [
    "# Just location_id\n",
    "sjoin(points[[\"geometry\"]], gdf_zones, how=\"left\")\\\n",
    "    .groupby([\"location_id\", \"zone\"])[\"location_id\"]\\\n",
    "    .get_group(('100', 'Garment District'))\\\n",
    "    .head(5)"
   ]
  },
  {
   "cell_type": "code",
   "execution_count": null,
   "metadata": {},
   "outputs": [],
   "source": [
    "sjoin(points[[\"geometry\"]], gdf_zones, how=\"left\")\\\n",
    "    .groupby([\"location_id\", \"zone\"])[\"location_id\"]\\\n",
    "    .count()\\\n",
    "    .head(5)"
   ]
  },
  {
   "cell_type": "code",
   "execution_count": null,
   "metadata": {},
   "outputs": [],
   "source": [
    "# All-in-one\n",
    "sjoin(points[[\"geometry\"]], gdf_zones, how=\"left\")\\\n",
    "    .groupby([\"location_id\", \"zone\"])[\"location_id\"]\\\n",
    "    .count()\\\n",
    "    .reset_index(name=\"count\")\\\n",
    "    .head(5)"
   ]
  },
  {
   "cell_type": "markdown",
   "metadata": {},
   "source": [
    "#### Approach 1"
   ]
  },
  {
   "cell_type": "code",
   "execution_count": null,
   "metadata": {},
   "outputs": [],
   "source": [
    "bc_zones = spark.sparkContext.broadcast(gdf_zones)\n",
    "bc_zones"
   ]
  },
  {
   "cell_type": "code",
   "execution_count": null,
   "metadata": {},
   "outputs": [],
   "source": [
    "def zone_contains_v1(row):\n",
    "    point = Point((row[\"lng\"], row[\"lat\"]))\n",
    "    for index, item in bc_zones.value.iterrows():\n",
    "        if item[\"geometry\"].contains(point):\n",
    "            return (item[\"location_id\"], item[\"zone\"])"
   ]
  },
  {
   "cell_type": "code",
   "execution_count": null,
   "metadata": {},
   "outputs": [],
   "source": [
    "df_stations.rdd\\\n",
    "    .map(zone_contains_v1)\\\n",
    "    .take(5)"
   ]
  },
  {
   "cell_type": "code",
   "execution_count": null,
   "metadata": {
    "scrolled": true
   },
   "outputs": [],
   "source": [
    "#%%timeit -n1\n",
    "df_stations.rdd\\\n",
    "    .map(zone_contains_v1)\\\n",
    "    .countByValue()"
   ]
  },
  {
   "cell_type": "markdown",
   "metadata": {},
   "source": [
    "#### Approach 2"
   ]
  },
  {
   "cell_type": "code",
   "execution_count": null,
   "metadata": {},
   "outputs": [],
   "source": [
    "def zone_contains_v2(rows):\n",
    "    points = list()\n",
    "    for row in rows: \n",
    "        points.append([row[\"lng\"], row[\"lat\"]])\n",
    "    if len(points) == 0:\n",
    "        return list()\n",
    "    df_points_pn = pd.DataFrame(points, columns=[\"lng\", \"lat\"])\n",
    "    gdf_points = gpd.GeoDataFrame(df_points_pn, \n",
    "                                  geometry=gpd.points_from_xy(df_points_pn[\"lng\"],\n",
    "                                                              df_points_pn[\"lat\"]))\n",
    "    for index, item in sjoin(gdf_points[[\"geometry\"]], bc_zones.value, how=\"left\").iterrows():\n",
    "        yield (item[\"location_id\"], item[\"zone\"])"
   ]
  },
  {
   "cell_type": "code",
   "execution_count": null,
   "metadata": {},
   "outputs": [],
   "source": [
    "df_stations.rdd\\\n",
    "    .mapPartitions(zone_contains_v2)\\\n",
    "    .take(5)"
   ]
  },
  {
   "cell_type": "code",
   "execution_count": null,
   "metadata": {
    "scrolled": true
   },
   "outputs": [],
   "source": [
    "#%%timeit -n1\n",
    "df_stations.rdd\\\n",
    "    .mapPartitions(zone_contains_v2)\\\n",
    "    .countByValue()"
   ]
  },
  {
   "cell_type": "markdown",
   "metadata": {},
   "source": [
    "#### Convert to Dataframe"
   ]
  },
  {
   "cell_type": "code",
   "execution_count": null,
   "metadata": {},
   "outputs": [],
   "source": [
    "def zone_contains_v2_df(rows):\n",
    "    points = list()\n",
    "    for row in rows: \n",
    "        points.append([row[\"lng\"], row[\"lat\"]])\n",
    "    if len(points) == 0:\n",
    "        return list()\n",
    "    df_points_pn = pd.DataFrame(points, columns=[\"lng\", \"lat\"])\n",
    "    gdf_points = gpd.GeoDataFrame(df_points_pn, \n",
    "                                  geometry=gpd.points_from_xy(df_points_pn[\"lng\"],\n",
    "                                                              df_points_pn[\"lat\"]))\n",
    "    for index, item in sjoin(gdf_points[[\"geometry\"]], bc_zones.value, how=\"left\").iterrows():\n",
    "        yield Row(id=item[\"location_id\"], zone=item[\"zone\"])"
   ]
  },
  {
   "cell_type": "code",
   "execution_count": null,
   "metadata": {},
   "outputs": [],
   "source": [
    "df_stations.rdd.mapPartitions(zone_contains_v2_df).toDF().show(5)"
   ]
  },
  {
   "cell_type": "code",
   "execution_count": null,
   "metadata": {},
   "outputs": [],
   "source": [
    "df_stations_count = df_stations.rdd\\\n",
    "    .mapPartitions(zone_contains_v2_df).toDF()\\\n",
    "    .groupBy(\"id\", \"zone\")\\\n",
    "    .agg(F.count(\"id\").alias(\"count\"))\n",
    "df_stations_count.show(5)"
   ]
  },
  {
   "cell_type": "markdown",
   "metadata": {},
   "source": [
    "#### Plotting on Map"
   ]
  },
  {
   "cell_type": "code",
   "execution_count": null,
   "metadata": {},
   "outputs": [],
   "source": [
    "df_count_pn = df_stations_count.toPandas()\n",
    "df_count_pn.head(5)"
   ]
  },
  {
   "cell_type": "code",
   "execution_count": null,
   "metadata": {},
   "outputs": [],
   "source": [
    "m = folium.Map()\n",
    "\n",
    "folium.Choropleth(\n",
    "    geo_data=zones_geojson,\n",
    "    data=df_count_pn,\n",
    "    columns=[\"id\", \"count\"],\n",
    "    name=\"Number of stations\",\n",
    "    legend_name=\"Number of stations\",\n",
    "    key_on=\"feature.properties.location_id\",\n",
    "    highlight=True,\n",
    "    nan_fill_color=\"grey\",\n",
    "    nan_fill_opacity=0.1,\n",
    "    fill_color=\"YlOrRd\",\n",
    "    fill_opacity=0.7,\n",
    "    line_opacity=0.2,\n",
    ").add_to(m)\n",
    "m.fit_bounds(m.get_bounds())\n",
    "embed_map(m)"
   ]
  },
  {
   "cell_type": "markdown",
   "metadata": {},
   "source": [
    "<a name=\"4\"></a>\n",
    "<div style=\"display:table; width:100%; padding-top:10px; padding-bottom:10px; border-bottom:1px solid lightgrey\">\n",
    "    <div style=\"display:table-row\">\n",
    "        <div style=\"display:table-cell; width:80%; font-size:14pt; font-weight:bold\">4. Calculating out-degrees</div>\n",
    "    \t<div style=\"display:table-cell; width:20%; text-align:center; background-color:whitesmoke; border:1px solid lightgrey\"><a href=\"#0\">To contents</a></div>\n",
    "    </div>\n",
    "</div>"
   ]
  },
  {
   "cell_type": "markdown",
   "metadata": {},
   "source": [
    "The total number of trips that start on a given station:"
   ]
  },
  {
   "cell_type": "code",
   "execution_count": null,
   "metadata": {},
   "outputs": [],
   "source": [
    "df_trips_start_counts = df_trips.select(F.col(\"start station id\").alias(\"id\"),\n",
    "                                        F.col(\"start station latitude\").alias(\"lat\"), \n",
    "                                        F.col(\"start station longitude\").alias(\"lng\"))\\\n",
    "                                .groupBy(\"id\")\\\n",
    "                                .agg(F.first(\"lat\").alias(\"lat\"), F.first(\"lng\").alias(\"lng\"), \n",
    "                                     F.count(\"id\").alias(\"count\"))\n",
    "df_trips_start_counts.show()"
   ]
  },
  {
   "cell_type": "markdown",
   "metadata": {},
   "source": [
    "Basic stats for the `count` column:"
   ]
  },
  {
   "cell_type": "code",
   "execution_count": null,
   "metadata": {},
   "outputs": [],
   "source": [
    "df_trips_start_counts.describe(\"count\").show()"
   ]
  },
  {
   "cell_type": "markdown",
   "metadata": {},
   "source": [
    "Median:"
   ]
  },
  {
   "cell_type": "code",
   "execution_count": null,
   "metadata": {},
   "outputs": [],
   "source": [
    "median = df_trips_start_counts.approxQuantile(\"count\", [0.5], 0)[0]\n",
    "median"
   ]
  },
  {
   "cell_type": "markdown",
   "metadata": {},
   "source": [
    "Extract the `max` value:"
   ]
  },
  {
   "cell_type": "code",
   "execution_count": null,
   "metadata": {},
   "outputs": [],
   "source": [
    "max_start_count = df_trips_start_counts\\\n",
    "    .select(F.max(\"count\").alias(\"max\"))\\\n",
    "    .rdd\\\n",
    "    .collect()[0][\"max\"]\n",
    "max_start_count"
   ]
  },
  {
   "cell_type": "markdown",
   "metadata": {},
   "source": [
    "Convert the `df_trips_start_counts` dataframe to matrix:"
   ]
  },
  {
   "cell_type": "code",
   "execution_count": null,
   "metadata": {},
   "outputs": [],
   "source": [
    "trips_matrix = df_trips_start_counts.toPandas()[[\"lat\", \"lng\", \"count\"]].values\n",
    "trips_matrix"
   ]
  },
  {
   "cell_type": "markdown",
   "metadata": {},
   "source": [
    "Plot `HeatMap` for counts:"
   ]
  },
  {
   "cell_type": "code",
   "execution_count": null,
   "metadata": {},
   "outputs": [],
   "source": [
    "m = folium.Map()\n",
    "HeatMap(trips_matrix, radius=15, max_val=max_start_count).add_to(m)\n",
    "m.fit_bounds(m.get_bounds())\n",
    "embed_map(m)"
   ]
  },
  {
   "cell_type": "code",
   "execution_count": null,
   "metadata": {},
   "outputs": [],
   "source": [
    "spark.stop()"
   ]
  },
  {
   "cell_type": "markdown",
   "metadata": {},
   "source": [
    "<a name=\"5\"></a>\n",
    "<div style=\"display:table; width:100%; padding-top:10px; padding-bottom:10px; border-bottom:1px solid lightgrey\">\n",
    "    <div style=\"display:table-row\">\n",
    "        <div style=\"display:table-cell; width:80%; font-size:14pt; font-weight:bold\">5. References</div>\n",
    "    \t<div style=\"display:table-cell; width:20%; text-align:center; background-color:whitesmoke; border:1px solid lightgrey\"><a href=\"#0\">To contents</a></div>\n",
    "    </div>\n",
    "</div>"
   ]
  },
  {
   "cell_type": "markdown",
   "metadata": {},
   "source": [
    "[GeoPandas](http://geopandas.org)\n",
    "\n",
    "[Shapely](https://github.com/Toblerity/Shapely)\n",
    "\n",
    "[Folium](https://github.com/python-visualization/folium)"
   ]
  }
 ],
 "metadata": {
  "kernelspec": {
   "display_name": "Python 3",
   "language": "python",
   "name": "python3"
  },
  "language_info": {
   "codemirror_mode": {
    "name": "ipython",
    "version": 3
   },
   "file_extension": ".py",
   "mimetype": "text/x-python",
   "name": "python",
   "nbconvert_exporter": "python",
   "pygments_lexer": "ipython3",
   "version": "3.7.3"
  }
 },
 "nbformat": 4,
 "nbformat_minor": 2
}