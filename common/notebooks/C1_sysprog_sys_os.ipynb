{
 "cells": [
  {
   "cell_type": "markdown",
   "metadata": {},
   "source": [
    "# Системное программирование на Python. Часть 1\n",
    "\n",
    "С.Ю. Папулин (papulin_bmstu@mail.ru)"
   ]
  },
  {
   "cell_type": "markdown",
   "metadata": {},
   "source": [
    "### Содержание\n",
    "\n",
    "- [Запуск Python скрипта](#Запуск-Python-скрипта)\n",
    "- [Модуль sys](#Модуль-sys)\n",
    "    - [Общие сведения](#Общие-сведения)\n",
    "    - [Разбор входных параметров](#Разбор-входных-параметров)\n",
    "    - [Стандартные потоки ввода-вывода](#Стандартные-потоки-ввода-вывода)\n",
    "    - [Завершение программ]()\n",
    "- [Модуль os]()\n",
    "    - [Общие сведения](#Общие-сведения)\n",
    "    - [Файловая система](#Файловая-система)\n",
    "    - [Переменные окружения](#Переменные-окружения)\n",
    "    - [Рабочий каталог](#Рабочий-каталог)\n",
    "    - [Запуск shell команд](#Запуск-shell-команд)"
   ]
  },
  {
   "cell_type": "markdown",
   "metadata": {},
   "source": [
    "## Запуск Python скрипта"
   ]
  },
  {
   "cell_type": "code",
   "execution_count": null,
   "metadata": {},
   "outputs": [],
   "source": [
    "#!/usr/bin/python3\n",
    "\n",
    "\"\"\"\n",
    "Running a program as an executable script\n",
    "\n",
    "Add executable permissions to the file owner:\n",
    "    chmod u+x sysprog_executable.py\n",
    "\n",
    "Command to run:\n",
    "    ./sysprog_executable.py\n",
    "\n",
    "If a current directory included in the PATH environment variable,\n",
    "the command can be simplified:\n",
    "    sysprog_executable.py\n",
    "\n",
    "Note:\n",
    "    More portable header: #!/usr/bin/env python\n",
    "\"\"\"\n",
    "\n",
    "print(\"Executable script.\")"
   ]
  },
  {
   "cell_type": "markdown",
   "metadata": {},
   "source": [
    "## Модуль `sys`"
   ]
  },
  {
   "cell_type": "markdown",
   "metadata": {},
   "source": [
    "### Общие сведения"
   ]
  },
  {
   "cell_type": "code",
   "execution_count": null,
   "metadata": {},
   "outputs": [],
   "source": [
    "import sys"
   ]
  },
  {
   "cell_type": "code",
   "execution_count": null,
   "metadata": {},
   "outputs": [],
   "source": [
    "# Вывод справки по модулю\n",
    "help(sys)"
   ]
  },
  {
   "cell_type": "code",
   "execution_count": null,
   "metadata": {},
   "outputs": [],
   "source": [
    "# Платформа\n",
    "sys.platform"
   ]
  },
  {
   "cell_type": "code",
   "execution_count": null,
   "metadata": {},
   "outputs": [],
   "source": [
    "# Версия python\n",
    "sys.version"
   ]
  },
  {
   "cell_type": "code",
   "execution_count": null,
   "metadata": {},
   "outputs": [],
   "source": [
    "# Пути поиска подгружаемых модулей (слева направо)\n",
    "sys.path"
   ]
  },
  {
   "cell_type": "code",
   "execution_count": null,
   "metadata": {},
   "outputs": [],
   "source": [
    "# Добавление пути поиска (сохраняется до завершения процесса)\n",
    "sys.path.append(\"/home/ubuntu/\")"
   ]
  },
  {
   "cell_type": "markdown",
   "metadata": {},
   "source": [
    "### Разбор входных параметров"
   ]
  },
  {
   "cell_type": "code",
   "execution_count": null,
   "metadata": {},
   "outputs": [],
   "source": [
    "# Входные параметры (аргументы) программы\n",
    "sys.argv"
   ]
  },
  {
   "cell_type": "markdown",
   "metadata": {},
   "source": [
    "Создайте файл с именем `sysprog_args.py` и поместите в него следующий код"
   ]
  },
  {
   "cell_type": "code",
   "execution_count": null,
   "metadata": {},
   "outputs": [],
   "source": [
    "import sys\n",
    "import argparse\n",
    "\n",
    "\n",
    "def main():\n",
    "    # print(sys.argv)\n",
    "    parser = argparse.ArgumentParser(description=\"\")\n",
    "    parser.add_argument(\"-i\", \"--input\", help=\"Input directory.\", required=True)\n",
    "    parser.add_argument(\"-o\", \"--output\", help=\"Output directory.\", default=\"/home/ubuntu/output\")\n",
    "    args = parser.parse_args()\n",
    "    print(\"Input directory:\\t\", args.input)\n",
    "    print(\"Output directory:\\t\", args.output)\n",
    "\n",
    "\n",
    "if __name__ == \"__main__\":\n",
    "    main()"
   ]
  },
  {
   "cell_type": "markdown",
   "metadata": {},
   "source": [
    "Запустите `sysprog_args.py` в командной строке"
   ]
  },
  {
   "cell_type": "code",
   "execution_count": null,
   "metadata": {},
   "outputs": [],
   "source": [
    "python sysprog_args.py --input /home/ubuntu/input --output /home/ubuntu/output"
   ]
  },
  {
   "cell_type": "code",
   "execution_count": null,
   "metadata": {},
   "outputs": [],
   "source": [
    "python sysprog_args.py -i /home/ubuntu/input -o /home/ubuntu/output"
   ]
  },
  {
   "cell_type": "code",
   "execution_count": null,
   "metadata": {},
   "outputs": [],
   "source": [
    "python sysprog_args.py -i /home/ubuntu/input"
   ]
  },
  {
   "cell_type": "markdown",
   "metadata": {},
   "source": [
    "### Стандартные потоки ввода-вывода"
   ]
  },
  {
   "cell_type": "markdown",
   "metadata": {},
   "source": [
    "**Ввод-вывод данных**"
   ]
  },
  {
   "cell_type": "markdown",
   "metadata": {},
   "source": [
    "Создайте файл с именем `sysprog_ioe_inout.py` и поместите в него следующий код"
   ]
  },
  {
   "cell_type": "code",
   "execution_count": null,
   "metadata": {},
   "outputs": [],
   "source": [
    "import sys\n",
    "\n",
    "\n",
    "def inout():\n",
    "    \"\"\"Input and output data\"\"\"\n",
    "    \n",
    "    # Option 1\n",
    "    print(\"Enter any string\", end=\" >> \")\n",
    "    in_data = input()\n",
    "    print(\"Input data:\", in_data)\n",
    "\n",
    "    # Option 2\n",
    "    # sys.stdout.write(\"Enter any string >> \")\n",
    "    # sys.stdout.flush()\n",
    "    # in_data = sys.stdin.readline()\n",
    "    # sys.stdout.write(\"Input data: {}\".format(in_data))\n",
    "\n",
    "\n",
    "inout()"
   ]
  },
  {
   "cell_type": "markdown",
   "metadata": {},
   "source": [
    "Запустите `sysprog_ioe_inout.py` в командной строке"
   ]
  },
  {
   "cell_type": "code",
   "execution_count": null,
   "metadata": {},
   "outputs": [],
   "source": [
    "python sysprog_ioe_inout.py"
   ]
  },
  {
   "cell_type": "markdown",
   "metadata": {},
   "source": [
    "Отключения буфера"
   ]
  },
  {
   "cell_type": "code",
   "execution_count": null,
   "metadata": {},
   "outputs": [],
   "source": [
    "PYTHONUNBUFFERED=1 python sysprog_ioe_inout.py"
   ]
  },
  {
   "cell_type": "code",
   "execution_count": null,
   "metadata": {},
   "outputs": [],
   "source": [
    "python -u sysprog_ioe_inout.py"
   ]
  },
  {
   "cell_type": "markdown",
   "metadata": {},
   "source": [
    "**Перенаправление потоков с использованием файлов**"
   ]
  },
  {
   "cell_type": "markdown",
   "metadata": {},
   "source": [
    "- *Внешнее перенаправление*"
   ]
  },
  {
   "cell_type": "markdown",
   "metadata": {},
   "source": [
    "Создайте файл с именем `sysprog_ioe_guess.py` и поместите в него следующий код"
   ]
  },
  {
   "cell_type": "code",
   "execution_count": null,
   "metadata": {},
   "outputs": [],
   "source": [
    "def main():\n",
    "    \"\"\"Guess a random value.\"\"\"\n",
    "    import random\n",
    "    while True:\n",
    "        try:\n",
    "            num = random.randint(0, 9)\n",
    "            print(\"Enter any number from 0 to 9:\")\n",
    "            your_num = int(input())\n",
    "            print(\"Your number is {} and actual one is {}\".format(your_num, num))\n",
    "            if num == your_num:\n",
    "                print(\"Well done!\")\n",
    "                break\n",
    "            else:\n",
    "                print(\"Sorry, try again.\")\n",
    "        except:\n",
    "            print(\"Bye bye!\")\n",
    "            break\n",
    "\n",
    "\n",
    "main()"
   ]
  },
  {
   "cell_type": "markdown",
   "metadata": {},
   "source": [
    "Запустите `sysprog_ioe_guess.py` в командной строке"
   ]
  },
  {
   "cell_type": "code",
   "execution_count": null,
   "metadata": {},
   "outputs": [],
   "source": [
    "python sysprog_ioe_inout.py"
   ]
  },
  {
   "cell_type": "markdown",
   "metadata": {},
   "source": [
    "Создайте текстовый файл `sysprog_ioe_guess__input` со следующим содержанием:\n",
    "\n",
    "```\n",
    "1\n",
    "3\n",
    "6\n",
    "2\n",
    "3\n",
    "5\n",
    "1\n",
    "4\n",
    "```"
   ]
  },
  {
   "cell_type": "markdown",
   "metadata": {},
   "source": [
    "Запустите `sysprog_ioe_guess.py` в командной строке с перенаправлением"
   ]
  },
  {
   "cell_type": "code",
   "execution_count": null,
   "metadata": {},
   "outputs": [],
   "source": [
    "python sysprog_ioe_inout.py < sysprog_ioe_guess__input"
   ]
  },
  {
   "cell_type": "markdown",
   "metadata": {},
   "source": [
    "и так"
   ]
  },
  {
   "cell_type": "code",
   "execution_count": null,
   "metadata": {},
   "outputs": [],
   "source": [
    "python sysprog_ioe_inout.py < sysprog_ioe_guess__input > sysprog_ioe_guess__output"
   ]
  },
  {
   "cell_type": "markdown",
   "metadata": {},
   "source": [
    "- *Внутреннее перенаправление*"
   ]
  },
  {
   "cell_type": "markdown",
   "metadata": {},
   "source": [
    "Создайте файл с именем `sysprog_ioe_file.py` и поместите в него следующий код"
   ]
  },
  {
   "cell_type": "code",
   "execution_count": null,
   "metadata": {},
   "outputs": [],
   "source": [
    "import sys\n",
    "import time\n",
    "\n",
    "# For in-memory in/out streams\n",
    "# from io import StringIO, BytesIO\n",
    "\n",
    "\n",
    "OUTPUT_FILE = \"sysprog_ioe_file.log\"\n",
    "SCRIPT_NAME = sys.argv[0]\n",
    "\n",
    "with open(OUTPUT_FILE, \"a\") as f:\n",
    "    \"\"\"Open a file to write output stream\"\"\"\n",
    "    # sys.stdout = f\n",
    "    # print(\"{}::{}::Hello\".format(time.asctime(), SCRIPT_NAME))\n",
    "    print(\"{}::{}::Hello\".format(time.asctime(), SCRIPT_NAME), file=f)"
   ]
  },
  {
   "cell_type": "markdown",
   "metadata": {},
   "source": [
    "Запустите `sysprog_ioe_file.py` в командной строке"
   ]
  },
  {
   "cell_type": "code",
   "execution_count": null,
   "metadata": {},
   "outputs": [],
   "source": [
    "python sysprog_ioe_file.py"
   ]
  },
  {
   "cell_type": "markdown",
   "metadata": {},
   "source": [
    "- *Перенаправление ошибки*\n",
    "\n",
    "Создайте файл с именем `sysprog_ioe_error.py` и поместите в него следующий код"
   ]
  },
  {
   "cell_type": "code",
   "execution_count": null,
   "metadata": {},
   "outputs": [],
   "source": [
    "\"\"\"\n",
    "Command to run:\n",
    "    python sysprog_ioe_error.py 1>sysprog_ioe_error.log 2>sysprog_ioe_error.error.log\n",
    "\"\"\"\n",
    "\n",
    "import sys\n",
    "\n",
    "print(\"Success\")\n",
    "print(\"Error\", file=sys.stderr)"
   ]
  },
  {
   "cell_type": "markdown",
   "metadata": {},
   "source": [
    "Запустите `sysprog_ioe_error.py` в командной строке"
   ]
  },
  {
   "cell_type": "code",
   "execution_count": null,
   "metadata": {},
   "outputs": [],
   "source": [
    "python sysprog_ioe_error.py 1>sysprog_ioe_error.log 2>sysprog_ioe_error.error.log"
   ]
  },
  {
   "cell_type": "markdown",
   "metadata": {},
   "source": [
    "**Перенаправление потоков с использованием каналов**"
   ]
  },
  {
   "cell_type": "markdown",
   "metadata": {},
   "source": [
    "Создайте файл с именем `sysprog_ioe_word.py` и поместите в него следующий код"
   ]
  },
  {
   "cell_type": "code",
   "execution_count": null,
   "metadata": {},
   "outputs": [],
   "source": [
    "try:\n",
    "    record = input()\n",
    "    for word in record.split():\n",
    "        print(word)\n",
    "except EOFError:\n",
    "    pass"
   ]
  },
  {
   "cell_type": "markdown",
   "metadata": {},
   "source": [
    "Запустите `sysprog_ioe_word.py` в командной строке"
   ]
  },
  {
   "cell_type": "code",
   "execution_count": null,
   "metadata": {},
   "outputs": [],
   "source": [
    "python sysprog_ioe_word.py"
   ]
  },
  {
   "cell_type": "markdown",
   "metadata": {},
   "source": [
    "Создайте файл с именем `sysprog_ioe_count.py` и поместите в него следующий код"
   ]
  },
  {
   "cell_type": "code",
   "execution_count": null,
   "metadata": {},
   "outputs": [],
   "source": [
    "import sys\n",
    "\n",
    "# Option 1\n",
    "# for word in sys.stdin:\n",
    "#     # print(repr(word))\n",
    "#     print(\"Count\", word.rstrip())\n",
    "\n",
    "if sys.stdin.isatty():\n",
    "    print(\"Count program uses console input\")\n",
    "else:\n",
    "    print(\"Count program uses file or pipe\")\n",
    "\n",
    "counter = dict()\n",
    "\n",
    "# Option 2, 3\n",
    "while True:\n",
    "    try:\n",
    "        word = input()\n",
    "        # word = sys.stdin.readline()[:-1]\n",
    "        if not word:\n",
    "            break\n",
    "        if word in counter:\n",
    "            counter[word] += 1\n",
    "        else:\n",
    "            counter[word] = 1\n",
    "    except EOFError:\n",
    "        break\n",
    "\n",
    "for key, value in sorted(counter.items(), key=lambda x: -x[1]):\n",
    "    print(\"{}\\t{}\".format(key, value))"
   ]
  },
  {
   "cell_type": "markdown",
   "metadata": {},
   "source": [
    "Запустите `sysprog_ioe_count.py` в командной строке"
   ]
  },
  {
   "cell_type": "code",
   "execution_count": null,
   "metadata": {},
   "outputs": [],
   "source": [
    "python sysprog_ioe_count.py"
   ]
  },
  {
   "cell_type": "markdown",
   "metadata": {},
   "source": [
    "Создайте последовательность выполнения с использованием канала (pipe)"
   ]
  },
  {
   "cell_type": "code",
   "execution_count": null,
   "metadata": {},
   "outputs": [],
   "source": [
    "python sysprog_ioe_word.py | python sysprog_ioe_count.py "
   ]
  },
  {
   "cell_type": "code",
   "execution_count": null,
   "metadata": {},
   "outputs": [],
   "source": [
    "echo \"a s d f a a d\" | python sysprog_ioe_word.py | python sysprog_ioe_count.py"
   ]
  },
  {
   "cell_type": "markdown",
   "metadata": {},
   "source": [
    "### Завершение программы"
   ]
  },
  {
   "cell_type": "markdown",
   "metadata": {},
   "source": [
    "Создайте файл с именем `sysprog_error.py` и поместите в него следующий код"
   ]
  },
  {
   "cell_type": "code",
   "execution_count": null,
   "metadata": {},
   "outputs": [],
   "source": [
    "import sys\n",
    "\n",
    "\n",
    "def main():\n",
    "    sys.exit(127)   # raise the SystemExit exception\n",
    "\n",
    "\n",
    "if __name__ == \"__main__\":\n",
    "    try:\n",
    "        main()\n",
    "    except SystemExit as e:\n",
    "        print(\"Something went wrong. Code error:\", e)"
   ]
  },
  {
   "cell_type": "markdown",
   "metadata": {},
   "source": [
    "Запустите `sysprog_error.py` в командной строке"
   ]
  },
  {
   "cell_type": "code",
   "execution_count": null,
   "metadata": {},
   "outputs": [],
   "source": [
    "python sysprog_error.py"
   ]
  },
  {
   "cell_type": "markdown",
   "metadata": {},
   "source": [
    "## Модуль `os`"
   ]
  },
  {
   "cell_type": "markdown",
   "metadata": {},
   "source": [
    "### Общие сведения"
   ]
  },
  {
   "cell_type": "code",
   "execution_count": null,
   "metadata": {},
   "outputs": [],
   "source": [
    "import os"
   ]
  },
  {
   "cell_type": "code",
   "execution_count": null,
   "metadata": {
    "scrolled": true
   },
   "outputs": [],
   "source": [
    "help(os)"
   ]
  },
  {
   "cell_type": "code",
   "execution_count": null,
   "metadata": {},
   "outputs": [],
   "source": [
    "# PID текущего процесса\n",
    "os.getpid()"
   ]
  },
  {
   "cell_type": "code",
   "execution_count": null,
   "metadata": {},
   "outputs": [],
   "source": [
    "# PID родительского процесса\n",
    "os.getppid()"
   ]
  },
  {
   "cell_type": "markdown",
   "metadata": {},
   "source": [
    "### Файловая система"
   ]
  },
  {
   "cell_type": "markdown",
   "metadata": {},
   "source": [
    "**Создание файлов и каталогов**"
   ]
  },
  {
   "cell_type": "code",
   "execution_count": null,
   "metadata": {},
   "outputs": [],
   "source": [
    "# TODO"
   ]
  },
  {
   "cell_type": "markdown",
   "metadata": {},
   "source": [
    "**Отображение структуры каталога**"
   ]
  },
  {
   "cell_type": "markdown",
   "metadata": {},
   "source": [
    "Создайте файл с именем `sysprog_fs_walk.py` и поместите в него следующий код"
   ]
  },
  {
   "cell_type": "code",
   "execution_count": null,
   "metadata": {},
   "outputs": [],
   "source": [
    "import os\n",
    "import sys\n",
    "\n",
    "\n",
    "def main(root_path):\n",
    "    for dirpath, dirnames, filenames in os.walk(root_path):\n",
    "        print(\"path:\", dirpath)\n",
    "        for dirname in dirnames:\n",
    "            print(\"\\tdir:\", dirname)\n",
    "        for filename in filenames:\n",
    "            print(\"\\t\\tfile:\", filename)\n",
    "\n",
    "\n",
    "if __name__ == \"__main__\":\n",
    "    if len(sys.argv) == 2:\n",
    "        main(sys.argv[1])\n",
    "    else:\n",
    "        raise AttributeError(\"Wrong arguments are provided.\")\n"
   ]
  },
  {
   "cell_type": "markdown",
   "metadata": {},
   "source": [
    "Запустите `sysprog_fs_walk.py` в командной строке"
   ]
  },
  {
   "cell_type": "code",
   "execution_count": null,
   "metadata": {},
   "outputs": [],
   "source": [
    "python sysprog_fs_walk.py /home/ubuntu/assignment"
   ]
  },
  {
   "cell_type": "markdown",
   "metadata": {},
   "source": [
    "**Поиск файла**"
   ]
  },
  {
   "cell_type": "markdown",
   "metadata": {},
   "source": [
    "Создайте файл с именем `sysprog_fs_find.py` и поместите в него следующий код"
   ]
  },
  {
   "cell_type": "code",
   "execution_count": null,
   "metadata": {},
   "outputs": [],
   "source": [
    "import os\n",
    "import sys\n",
    "\n",
    "\n",
    "def find(filename, root_path=\"/\"):\n",
    "    # go over all directories and files from the root to leaves in width\n",
    "    for dpath, dnames, fnames in os.walk(root_path):\n",
    "        for fname in fnames:\n",
    "            if filename.lower() in fname.lower():\n",
    "                yield os.path.join(dpath, fname)\n",
    "\n",
    "\n",
    "def main(name, root_path):\n",
    "    for found_file in find(name, root_path):\n",
    "        print(found_file)\n",
    "\n",
    "\n",
    "if __name__ == \"__main__\":\n",
    "    if len(sys.argv) == 3:\n",
    "        main(sys.argv[1], sys.argv[2])\n",
    "    else:\n",
    "        raise AttributeError(\"Wrong arguments are provided.\")\n"
   ]
  },
  {
   "cell_type": "markdown",
   "metadata": {},
   "source": [
    "Запустите `sysprog_fs_find.py` в командной строке"
   ]
  },
  {
   "cell_type": "code",
   "execution_count": null,
   "metadata": {},
   "outputs": [],
   "source": [
    "python sysprog_fs_find.py output /home/ubuntu/assignment"
   ]
  },
  {
   "cell_type": "markdown",
   "metadata": {},
   "source": [
    "**Удаление каталога**"
   ]
  },
  {
   "cell_type": "markdown",
   "metadata": {},
   "source": [
    "Создайте файл с именем `sysprog_fs_delete.py` и поместите в него следующий код"
   ]
  },
  {
   "cell_type": "code",
   "execution_count": null,
   "metadata": {},
   "outputs": [],
   "source": [
    "import os\n",
    "import sys\n",
    "\n",
    "\n",
    "def delete(directory):\n",
    "    # list over all items (subdirectories and files) in a directory\n",
    "    for name in os.listdir(directory):\n",
    "        # compose a full path\n",
    "        path = os.path.join(directory, name)\n",
    "        # check whether path refers to a directory or not\n",
    "        if os.path.isdir(path):\n",
    "            delete(path)        # recursive call\n",
    "        else:\n",
    "            os.unlink(path)     # delete a file\n",
    "    os.rmdir(directory)         # delete a directory\n",
    "\n",
    "\n",
    "def main(directory):\n",
    "    delete(directory)\n",
    "\n",
    "\n",
    "if __name__ == \"__main__\":\n",
    "    if len(sys.argv) == 2:\n",
    "        main(sys.argv[1])\n",
    "    else:\n",
    "        raise AttributeError(\"Wrong arguments are provided.\")"
   ]
  },
  {
   "cell_type": "markdown",
   "metadata": {},
   "source": [
    "Запустите `sysprog_fs_delete.py` в командной строке"
   ]
  },
  {
   "cell_type": "code",
   "execution_count": null,
   "metadata": {},
   "outputs": [],
   "source": [
    "python sysprog_fs_find.py $YOUR_DIR"
   ]
  },
  {
   "cell_type": "markdown",
   "metadata": {},
   "source": [
    "### Переменные окружения"
   ]
  },
  {
   "cell_type": "markdown",
   "metadata": {},
   "source": [
    "Создайте файл с именем `sysprog_env.py` и поместите в него следующий код"
   ]
  },
  {
   "cell_type": "code",
   "execution_count": null,
   "metadata": {},
   "outputs": [],
   "source": [
    "import os\n",
    "\n",
    "\n",
    "def main():\n",
    "    \"\"\"\n",
    "    Environment variables example.\n",
    "    \"\"\"\n",
    "\n",
    "    # List all environment variables\n",
    "    print(\"All environment variables:\\n\", os.environ)\n",
    "\n",
    "    # Check whether some variable exists or not\n",
    "    print(\"Whether HELLO exists?\\t\", \"HELLO\" in os.environ)\n",
    "\n",
    "    # Get an environment variable value if exists, otherwise return None\n",
    "    print(\"Python process:\\t HELLO={}\".format(os.environ.get(\"HELLO\")))\n",
    "\n",
    "    # Assign a new value to the HELLO environment variable\n",
    "    # Note: This assignment is scoped within current process and its child processes\n",
    "    print(\"Reassign value:\")\n",
    "    os.environ[\"HELLO\"] = \"welcome\"\n",
    "    print(\"Python process:\\t HELLO={}\".format(os.environ.get(\"HELLO\")))\n",
    "    \n",
    "    # Run a child process\n",
    "    os.system('echo \"Child process:\\t HELLO=$HELLO\"')\n",
    "\n",
    "\n",
    "if __name__ == \"__main__\":\n",
    "    main()\n"
   ]
  },
  {
   "cell_type": "markdown",
   "metadata": {},
   "source": [
    "Запустите `sysprog_env.py` в командной строке"
   ]
  },
  {
   "cell_type": "code",
   "execution_count": null,
   "metadata": {},
   "outputs": [],
   "source": [
    "python sysprog_env.py "
   ]
  },
  {
   "cell_type": "code",
   "execution_count": null,
   "metadata": {},
   "outputs": [],
   "source": [
    "# process-wide variable\n",
    "HELLO=hello python sysprog_env.py"
   ]
  },
  {
   "cell_type": "code",
   "execution_count": null,
   "metadata": {},
   "outputs": [],
   "source": [
    "# shell-wide variable\n",
    "export HELLO=hello \\\n",
    "    && echo -e \"Shell process:\\t HELLO=$HELLO\" \\\n",
    "    && python sysprog_env.py \\\n",
    "    && echo -e \"Shell process:\\t HELLO=$HELLO\""
   ]
  },
  {
   "cell_type": "markdown",
   "metadata": {},
   "source": [
    "### Рабочий каталог"
   ]
  },
  {
   "cell_type": "markdown",
   "metadata": {},
   "source": [
    "Создайте файл с именем `sysprog_cwd.py` и поместите в него следующий код"
   ]
  },
  {
   "cell_type": "code",
   "execution_count": null,
   "metadata": {},
   "outputs": [],
   "source": [
    "\"\"\"\n",
    "Note: Run by two commands:\n",
    "1) python sysprog_cwd.py\n",
    "2) cd .. && python sysprog/sysprog_cwd.py && cd sysprog\n",
    "\"\"\"\n",
    "\n",
    "import os\n",
    "\n",
    "\n",
    "def main():\n",
    "    print(os.getcwd())\n",
    "\n",
    "\n",
    "if __name__ == \"__main__\":\n",
    "    main()"
   ]
  },
  {
   "cell_type": "markdown",
   "metadata": {},
   "source": [
    "Запустите `sysprog_cwd.py` в командной строке"
   ]
  },
  {
   "cell_type": "code",
   "execution_count": null,
   "metadata": {},
   "outputs": [],
   "source": [
    "python sysprog_cwd.py"
   ]
  },
  {
   "cell_type": "code",
   "execution_count": null,
   "metadata": {},
   "outputs": [],
   "source": [
    "cd .. && python sysprog/sysprog_cwd.py && cd sysprog"
   ]
  },
  {
   "cell_type": "markdown",
   "metadata": {},
   "source": [
    "### Запуск shell команд"
   ]
  },
  {
   "cell_type": "markdown",
   "metadata": {},
   "source": [
    "Создайте файл с именем `sysprog_shell.py` и поместите в него следующий код"
   ]
  },
  {
   "cell_type": "code",
   "execution_count": null,
   "metadata": {},
   "outputs": [],
   "source": [
    "import os\n",
    "\n",
    "CODE = \"echo 'hello'\"\n",
    "\n",
    "# Option 1\n",
    "# run command and wait for it to complete\n",
    "print(os.system(\"/bin/bash -c '{}'\".format(CODE)))\n",
    "\n",
    "# Option 2\n",
    "import subprocess\n",
    "# run command and continue execution\n",
    "process = subprocess.Popen([\"/bin/bash\", \"-c\", CODE], stdout=subprocess.PIPE)\n",
    "print(process)\n",
    "out, err = process.communicate()\n",
    "print(out.decode(\"utf-8\").strip())\n",
    "\n",
    "# Option 3\n",
    "# run command and wait for result\n",
    "process = subprocess.run([\"/bin/bash\", \"-c\", CODE], stdout=subprocess.PIPE)\n",
    "print(process.stdout.decode(\"utf-8\").strip())\n",
    "\n",
    "# Option 4\n",
    "# run command and wait for result\n",
    "out = subprocess.check_output([\"/bin/bash\", \"-c\", CODE])\n",
    "print(out.decode(\"utf-8\").strip())"
   ]
  },
  {
   "cell_type": "markdown",
   "metadata": {},
   "source": [
    "Запустите `sysprog_shell.py` в командной строке"
   ]
  },
  {
   "cell_type": "code",
   "execution_count": null,
   "metadata": {},
   "outputs": [],
   "source": [
    "python sysprog_shell.py"
   ]
  },
  {
   "cell_type": "markdown",
   "metadata": {},
   "source": [
    "*Пример с подсчетом количества слов*"
   ]
  },
  {
   "cell_type": "markdown",
   "metadata": {},
   "source": [
    "Создайте файл с именем `sysprog_shell_pipe.py` и поместите в него следующий код"
   ]
  },
  {
   "cell_type": "code",
   "execution_count": null,
   "metadata": {},
   "outputs": [],
   "source": [
    "import subprocess\n",
    "\n",
    "\n",
    "INPUT_FILE = \"sysprog_ioe_count.txt\"\n",
    "CODE = \"python sysprog_ioe_word.py | python sysprog_ioe_count.py\"\n",
    "\n",
    "with open(INPUT_FILE, \"r\") as f:\n",
    "    out = subprocess.check_output([\"/bin/bash\", \"-c\", CODE], stdin=f)\n",
    "\n",
    "# Word count pairs\n",
    "out_text = out.decode(\"utf-8\")[:-1]\n",
    "wcount_pairs = out_text.split(\"\\n\")\n",
    "print(\"Word count pairs:\\n{}\".format(wcount_pairs))\n",
    "\n",
    "# Top word\n",
    "if len(wcount_pairs) > 0:\n",
    "    word, count = wcount_pairs[0].split(\"\\t\")\n",
    "    print(\"Top word is {}\".format(word))"
   ]
  },
  {
   "cell_type": "markdown",
   "metadata": {},
   "source": [
    "Запустите `sysprog_shell_pipe.py` в командной строке"
   ]
  },
  {
   "cell_type": "code",
   "execution_count": null,
   "metadata": {},
   "outputs": [],
   "source": [
    "python sysprog_shell_pipe.py"
   ]
  },
  {
   "cell_type": "code",
   "execution_count": null,
   "metadata": {},
   "outputs": [],
   "source": []
  }
 ],
 "metadata": {
  "kernelspec": {
   "display_name": "Python 3",
   "language": "python",
   "name": "python3"
  },
  "language_info": {
   "codemirror_mode": {
    "name": "ipython",
    "version": 3
   },
   "file_extension": ".py",
   "mimetype": "text/x-python",
   "name": "python",
   "nbconvert_exporter": "python",
   "pygments_lexer": "ipython3",
   "version": "3.7.3"
  }
 },
 "nbformat": 4,
 "nbformat_minor": 2
}
