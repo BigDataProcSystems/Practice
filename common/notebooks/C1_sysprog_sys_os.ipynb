{
 "cells": [
  {
   "cell_type": "markdown",
   "metadata": {},
   "source": [
    "# Системное программирование на Python. Часть 1\n",
    "\n",
    "С.Ю. Папулин (papulin_bmstu@mail.ru)\n"
   ]
  },
  {
   "cell_type": "markdown",
   "metadata": {},
   "source": [
    "### Содержание\n",
    "\n",
    "- [Запуск Python скрипта](#Запуск-Python-скрипта)\n",
    "- [Модуль sys](#Модуль-sys)\n",
    "    - [Общие сведения](#Общие-сведения)\n",
    "    - [Разбор входных параметров](#Разбор-входных-параметров)\n",
    "    - [Стандартные потоки ввода-вывода](#Стандартные-потоки-ввода-вывода)\n",
    "    - [Завершение программ]()\n",
    "- [Модуль os]()\n",
    "    - [Общие сведения]()\n",
    "    - [Пути к файлам и каталогам]()\n",
    "    - [Запуск shell команд]()"
   ]
  },
  {
   "cell_type": "markdown",
   "metadata": {},
   "source": [
    "## Запуск Python скрипта"
   ]
  },
  {
   "cell_type": "code",
   "execution_count": null,
   "metadata": {},
   "outputs": [],
   "source": [
    "#!/usr/bin/python3\n",
    "\n",
    "\"\"\"\n",
    "Running a program as an executable script\n",
    "\n",
    "Add executable permissions for file owner:\n",
    "    chmod u+x sysprog_executable.py\n",
    "\n",
    "Command to run:\n",
    "    ./sysprog_executable.py\n",
    "\n",
    "If a current directory included in the PATH environment variable,\n",
    "the command can be simplified:\n",
    "    sysprog_executable.py\n",
    "\n",
    "Note:\n",
    "    More portable header: #!/usr/bin/env python\n",
    "\"\"\"\n",
    "\n",
    "print(\"Executable script.\")"
   ]
  },
  {
   "cell_type": "markdown",
   "metadata": {},
   "source": [
    "## Модуль `sys`"
   ]
  },
  {
   "cell_type": "markdown",
   "metadata": {},
   "source": [
    "### Общие сведения"
   ]
  },
  {
   "cell_type": "code",
   "execution_count": null,
   "metadata": {},
   "outputs": [],
   "source": [
    "import sys"
   ]
  },
  {
   "cell_type": "code",
   "execution_count": null,
   "metadata": {},
   "outputs": [],
   "source": [
    "# Вывод справки по модулю\n",
    "help(sys)"
   ]
  },
  {
   "cell_type": "code",
   "execution_count": null,
   "metadata": {},
   "outputs": [],
   "source": [
    "# Платформа\n",
    "sys.platform"
   ]
  },
  {
   "cell_type": "code",
   "execution_count": null,
   "metadata": {},
   "outputs": [],
   "source": [
    "# Версия python\n",
    "sys.version"
   ]
  },
  {
   "cell_type": "code",
   "execution_count": null,
   "metadata": {},
   "outputs": [],
   "source": [
    "# Пути поиска подгружаемых модулей (слева направо)\n",
    "sys.path"
   ]
  },
  {
   "cell_type": "code",
   "execution_count": null,
   "metadata": {},
   "outputs": [],
   "source": [
    "# Добавление пути поиска (сохраняется до завершения процесса)\n",
    "sys.path.append(\"/home/ubuntu/\")"
   ]
  },
  {
   "cell_type": "markdown",
   "metadata": {},
   "source": [
    "### Разбор входных параметров"
   ]
  },
  {
   "cell_type": "code",
   "execution_count": null,
   "metadata": {},
   "outputs": [],
   "source": [
    "# Входные параметры (аргументы) программы\n",
    "sys.argv"
   ]
  },
  {
   "cell_type": "markdown",
   "metadata": {},
   "source": [
    "Создайте файл с именем `sysprog_args.py` и поместите в него следующий код"
   ]
  },
  {
   "cell_type": "code",
   "execution_count": null,
   "metadata": {},
   "outputs": [],
   "source": [
    "import sys\n",
    "import argparse\n",
    "\n",
    "\n",
    "def main():\n",
    "    # print(sys.argv)\n",
    "    parser = argparse.ArgumentParser(description=\"\")\n",
    "    parser.add_argument(\"-i\", \"--input\", help=\"Input directory.\", required=True)\n",
    "    parser.add_argument(\"-o\", \"--output\", help=\"Output directory.\", default=\"/home/ubuntu/output\")\n",
    "    args = parser.parse_args()\n",
    "    print(\"Input directory:\\t\", args.input)\n",
    "    print(\"Output directory:\\t\", args.output)\n",
    "\n",
    "\n",
    "if __name__ == \"__main__\":\n",
    "    main()"
   ]
  },
  {
   "cell_type": "markdown",
   "metadata": {},
   "source": [
    "Запустите `sysprog_args.py` в командной строке"
   ]
  },
  {
   "cell_type": "code",
   "execution_count": null,
   "metadata": {},
   "outputs": [],
   "source": [
    "python sysprog_args.py --input /home/ubuntu/input --output /home/ubuntu/output"
   ]
  },
  {
   "cell_type": "code",
   "execution_count": null,
   "metadata": {},
   "outputs": [],
   "source": [
    "python sysprog_args.py -i /home/ubuntu/input -o /home/ubuntu/output"
   ]
  },
  {
   "cell_type": "code",
   "execution_count": null,
   "metadata": {},
   "outputs": [],
   "source": [
    "python sysprog_args.py -i /home/ubuntu/input"
   ]
  },
  {
   "cell_type": "markdown",
   "metadata": {},
   "source": [
    "### Стандарные потоки ввода-вывода"
   ]
  },
  {
   "cell_type": "markdown",
   "metadata": {},
   "source": [
    "**Ввод-вывод данных**"
   ]
  },
  {
   "cell_type": "markdown",
   "metadata": {},
   "source": [
    "Создайте файл с именем `sysprog_ioe_inout.py` и поместите в него следующий код"
   ]
  },
  {
   "cell_type": "code",
   "execution_count": null,
   "metadata": {},
   "outputs": [],
   "source": [
    "import sys\n",
    "\n",
    "\n",
    "def inout():\n",
    "    \"\"\"Input and output data\"\"\"\n",
    "    \n",
    "    # Option 1\n",
    "    print(\"Enter any string\", end=\" >> \")\n",
    "    in_data = input()\n",
    "    print(\"Input data:\", in_data)\n",
    "\n",
    "    # Option 2\n",
    "    # sys.stdout.write(\"Enter any string >> \")\n",
    "    # sys.stdout.flush()\n",
    "    # in_data = sys.stdin.readline()\n",
    "    # sys.stdout.write(\"Input data: {}\".format(in_data))\n",
    "\n",
    "\n",
    "inout()"
   ]
  },
  {
   "cell_type": "markdown",
   "metadata": {},
   "source": [
    "Запустите `sysprog_ioe_inout.py` в командной строке"
   ]
  },
  {
   "cell_type": "code",
   "execution_count": null,
   "metadata": {},
   "outputs": [],
   "source": [
    "python sysprog_ioe_inout.py"
   ]
  },
  {
   "cell_type": "markdown",
   "metadata": {},
   "source": [
    "Отключения буфера"
   ]
  },
  {
   "cell_type": "code",
   "execution_count": null,
   "metadata": {},
   "outputs": [],
   "source": [
    "PYTHONUNBUFFERED=1 python sysprog_ioe_inout.py"
   ]
  },
  {
   "cell_type": "code",
   "execution_count": null,
   "metadata": {},
   "outputs": [],
   "source": [
    "python -u sysprog_ioe_inout.py"
   ]
  },
  {
   "cell_type": "markdown",
   "metadata": {},
   "source": [
    "**Перенаправление потоков с использованием файлов**"
   ]
  },
  {
   "cell_type": "markdown",
   "metadata": {},
   "source": [
    "- *Внешнее перенаправление*"
   ]
  },
  {
   "cell_type": "markdown",
   "metadata": {},
   "source": [
    "Создайте файл с именем `sysprog_ioe_guess.py` и поместите в него следующий код"
   ]
  },
  {
   "cell_type": "code",
   "execution_count": null,
   "metadata": {},
   "outputs": [],
   "source": [
    "def main():\n",
    "    \"\"\"Guess a random value.\"\"\"\n",
    "    import random\n",
    "    while True:\n",
    "        try:\n",
    "            num = random.randint(0, 9)\n",
    "            print(\"Enter any number from 0 to 9:\")\n",
    "            your_num = int(input())\n",
    "            print(\"Your number is {} and actual one is {}\".format(your_num, num))\n",
    "            if num == your_num:\n",
    "                print(\"Well done!\")\n",
    "                break\n",
    "            else:\n",
    "                print(\"Sorry, try again.\")\n",
    "        except:\n",
    "            print(\"Bye bye!\")\n",
    "            break\n",
    "\n",
    "\n",
    "main()"
   ]
  },
  {
   "cell_type": "markdown",
   "metadata": {},
   "source": [
    "Запустите `sysprog_ioe_guess.py` в командной строке"
   ]
  },
  {
   "cell_type": "code",
   "execution_count": null,
   "metadata": {},
   "outputs": [],
   "source": [
    "python sysprog_ioe_inout.py"
   ]
  },
  {
   "cell_type": "markdown",
   "metadata": {},
   "source": [
    "Создайте текстовых файл `sysprog_ioe_guess__input` со следующим содержанием:\n",
    "\n",
    "```\n",
    "1\n",
    "3\n",
    "6\n",
    "2\n",
    "3\n",
    "5\n",
    "1\n",
    "4\n",
    "```"
   ]
  },
  {
   "cell_type": "markdown",
   "metadata": {},
   "source": [
    "Запустите `sysprog_ioe_guess.py` в командной строке с перенаправлением"
   ]
  },
  {
   "cell_type": "code",
   "execution_count": null,
   "metadata": {},
   "outputs": [],
   "source": [
    "python sysprog_ioe_inout.py < sysprog_ioe_guess__input"
   ]
  },
  {
   "cell_type": "markdown",
   "metadata": {},
   "source": [
    "и так"
   ]
  },
  {
   "cell_type": "code",
   "execution_count": null,
   "metadata": {},
   "outputs": [],
   "source": [
    "python sysprog_ioe_inout.py < sysprog_ioe_guess__input > sysprog_ioe_guess__output"
   ]
  },
  {
   "cell_type": "markdown",
   "metadata": {},
   "source": [
    "- *Внутреннее перенаправление*"
   ]
  },
  {
   "cell_type": "markdown",
   "metadata": {},
   "source": [
    "Создайте файл с именем `sysprog_ioe_file.py` и поместите в него следующий код"
   ]
  },
  {
   "cell_type": "code",
   "execution_count": null,
   "metadata": {},
   "outputs": [],
   "source": [
    "import sys\n",
    "import time\n",
    "\n",
    "# For in-memory in/out streams\n",
    "# from io import StringIO, BytesIO\n",
    "\n",
    "\n",
    "OUTPUT_FILE = \"sysprog_ioe_file.log\"\n",
    "SCRIPT_NAME = sys.argv[0]\n",
    "\n",
    "with open(OUTPUT_FILE, \"a\") as f:\n",
    "    \"\"\"Open a file to write output stream\"\"\"\n",
    "    # sys.stdout = f\n",
    "    # print(\"{}::{}::Hello\".format(time.asctime(), SCRIPT_NAME))\n",
    "    print(\"{}::{}::Hello\".format(time.asctime(), SCRIPT_NAME), file=f)"
   ]
  },
  {
   "cell_type": "markdown",
   "metadata": {},
   "source": [
    "Запустите `sysprog_ioe_file.py` в командной строке"
   ]
  },
  {
   "cell_type": "code",
   "execution_count": null,
   "metadata": {},
   "outputs": [],
   "source": [
    "python sysprog_ioe_file.py"
   ]
  },
  {
   "cell_type": "markdown",
   "metadata": {},
   "source": [
    "- *Перенаправление ошибки*\n",
    "\n",
    "Создайте файл с именем `sysprog_ioe_error.py` и поместите в него следующий код"
   ]
  },
  {
   "cell_type": "code",
   "execution_count": null,
   "metadata": {},
   "outputs": [],
   "source": [
    "\"\"\"\n",
    "Command to run:\n",
    "    python sysprog_ioe_error.py 1>sysprog_ioe_error.log 2>sysprog_ioe_error.error.log\n",
    "\"\"\"\n",
    "\n",
    "import sys\n",
    "\n",
    "print(\"Success\")\n",
    "print(\"Error\", file=sys.stderr)"
   ]
  },
  {
   "cell_type": "markdown",
   "metadata": {},
   "source": [
    "Запустите `sysprog_ioe_error.py` в командной строке"
   ]
  },
  {
   "cell_type": "code",
   "execution_count": null,
   "metadata": {},
   "outputs": [],
   "source": [
    "python sysprog_ioe_error.py 1>sysprog_ioe_error.log 2>sysprog_ioe_error.error.log"
   ]
  },
  {
   "cell_type": "markdown",
   "metadata": {},
   "source": [
    "**Перенаправление потоков с использованием каналов**"
   ]
  },
  {
   "cell_type": "markdown",
   "metadata": {},
   "source": [
    "Создайте файл с именем `sysprog_ioe_word.py` и поместите в него следующий код"
   ]
  },
  {
   "cell_type": "code",
   "execution_count": null,
   "metadata": {},
   "outputs": [],
   "source": [
    "record = input()\n",
    "for word in record.split():\n",
    "    print(word)"
   ]
  },
  {
   "cell_type": "markdown",
   "metadata": {},
   "source": [
    "Запустите `sysprog_ioe_word.py` в командной строке"
   ]
  },
  {
   "cell_type": "code",
   "execution_count": null,
   "metadata": {},
   "outputs": [],
   "source": [
    "python sysprog_ioe_word.py"
   ]
  },
  {
   "cell_type": "markdown",
   "metadata": {},
   "source": [
    "Создайте файл с именем `sysprog_ioe_count.py` и поместите в него следующий код"
   ]
  },
  {
   "cell_type": "code",
   "execution_count": null,
   "metadata": {},
   "outputs": [],
   "source": [
    "import sys\n",
    "\n",
    "# Option 1\n",
    "# for word in sys.stdin:\n",
    "#     # print(repr(word))\n",
    "#     print(\"Count\", word.rstrip())\n",
    "\n",
    "if sys.stdin.isatty():\n",
    "    print(\"Count program uses console input\")\n",
    "else:\n",
    "    print(\"Count program uses file or pipe\")\n",
    "\n",
    "counter = dict()\n",
    "\n",
    "# Option 2, 3\n",
    "while True:\n",
    "    try:\n",
    "        word = input()\n",
    "        # word = sys.stdin.readline()[:-1]\n",
    "        if not word:\n",
    "            break\n",
    "        if word in counter:\n",
    "            counter[word] += 1\n",
    "        else:\n",
    "            counter[word] = 1\n",
    "    except EOFError:\n",
    "        break\n",
    "\n",
    "for key, value in sorted(counter.items(), key=lambda x: -x[1]):\n",
    "    print(\"{}\\t{}\".format(key, value))"
   ]
  },
  {
   "cell_type": "markdown",
   "metadata": {},
   "source": [
    "Запустите `sysprog_ioe_count.py` в командной строке"
   ]
  },
  {
   "cell_type": "code",
   "execution_count": null,
   "metadata": {},
   "outputs": [],
   "source": [
    "python sysprog_ioe_count.py"
   ]
  },
  {
   "cell_type": "markdown",
   "metadata": {},
   "source": [
    "Создайте последовательность выполнения с использованием канала (pipe)"
   ]
  },
  {
   "cell_type": "code",
   "execution_count": null,
   "metadata": {},
   "outputs": [],
   "source": [
    "python sysprog_ioe_word.py | python sysprog_ioe_count.py "
   ]
  },
  {
   "cell_type": "code",
   "execution_count": null,
   "metadata": {},
   "outputs": [],
   "source": [
    "echo \"a s d f a a d\" | python sysprog_ioe_word.py | python sysprog_ioe_count.py"
   ]
  },
  {
   "cell_type": "markdown",
   "metadata": {},
   "source": [
    "## Under construction"
   ]
  },
  {
   "cell_type": "code",
   "execution_count": null,
   "metadata": {},
   "outputs": [],
   "source": [
    "# TODO: exist status"
   ]
  },
  {
   "cell_type": "code",
   "execution_count": null,
   "metadata": {},
   "outputs": [],
   "source": [
    "# TODO: module os"
   ]
  },
  {
   "cell_type": "code",
   "execution_count": null,
   "metadata": {},
   "outputs": [],
   "source": []
  },
  {
   "cell_type": "code",
   "execution_count": null,
   "metadata": {},
   "outputs": [],
   "source": []
  }
 ],
 "metadata": {
  "kernelspec": {
   "display_name": "Python 3",
   "language": "python",
   "name": "python3"
  },
  "language_info": {
   "codemirror_mode": {
    "name": "ipython",
    "version": 3
   },
   "file_extension": ".py",
   "mimetype": "text/x-python",
   "name": "python",
   "nbconvert_exporter": "python",
   "pygments_lexer": "ipython3",
   "version": "3.7.3"
  }
 },
 "nbformat": 4,
 "nbformat_minor": 2
}