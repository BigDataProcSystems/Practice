{
 "cells": [
  {
   "cell_type": "markdown",
   "metadata": {},
   "source": [
    "<div style=\"font-size:18pt; padding-top:20px; text-align:center\"> Обработка потоковых данных с <b>Spark Streaming</b> и <b>Kafka</b></div><hr>\n",
    "<div style=\"text-align:right;\">Папулин С.Ю. <span style=\"font-style: italic;font-weight: bold;\">(papulin.study@mail.ru)</span></div>"
   ]
  },
  {
   "cell_type": "markdown",
   "metadata": {},
   "source": [
    "<a name=\"0\"></a>\n",
    "<div><span style=\"font-size:14pt; font-weight:bold\">Содержание</span>\n",
    "    <ol>\n",
    "        <li><a href=\"#1\">Запуск приложения на Cloudera</a>\n",
    "            <ol style = \"list-style-type:lower-alpha\">\n",
    "                <li><a href=\"#1a\">Установка Kafka на машине с Cloudera'ой</a></li>\n",
    "                <li><a href=\"#1b\">Запуск кода в Spark Streaming</a></li>\n",
    "                <li><a href=\"#1b\">Проверка работоспособности</a></li>\n",
    "            </ol>\n",
    "        </li>\n",
    "        <li><a href=\"#2\">Источники</a>\n",
    "        </li>\n",
    "    </ol>\n",
    "</div>"
   ]
  },
  {
   "cell_type": "markdown",
   "metadata": {},
   "source": [
    "<p>Подключение стилей для оформления тетради</p>"
   ]
  },
  {
   "cell_type": "code",
   "execution_count": 1,
   "metadata": {},
   "outputs": [
    {
     "data": {
      "text/html": [
       "<link rel='stylesheet' href='css/style.css'>"
      ],
      "text/plain": [
       "<IPython.core.display.HTML object>"
      ]
     },
     "execution_count": 1,
     "metadata": {},
     "output_type": "execute_result"
    }
   ],
   "source": [
    "from IPython.core.display import HTML\n",
    "HTML(\"<link rel='stylesheet' href='css/style.css'>\")"
   ]
  },
  {
   "cell_type": "markdown",
   "metadata": {},
   "source": [
    "<a name=\"1\"></a>\n",
    "<div style=\"display:table; width:100%; padding-top:10px; padding-bottom:10px; border-bottom:1px solid lightgrey\">\n",
    "    <div style=\"display:table-row\">\n",
    "        <div style=\"display:table-cell; width:80%; font-size:14pt; font-weight:bold\">1. Запуск приложения на Cloudera</div>\n",
    "    \t<div style=\"display:table-cell; width:20%; text-align:center; background-color:whitesmoke; border:1px solid lightgrey\"><a href=\"#0\">К содержанию</a></div>\n",
    "    </div>\n",
    "</div>"
   ]
  },
  {
   "cell_type": "markdown",
   "metadata": {},
   "source": [
    "<a name=\"1a\"></a>\n",
    "<div style=\"display:table; width:100%\">\n",
    "    <div style=\"display:table-row\">\n",
    "        <div style=\"display:table-cell; width:80%; font-style:italic; font-weight:bold; font-size:12pt\">\n",
    "            a. Установка Kafka на машине с Cloudera'ой\n",
    "        </div>\n",
    "        <div style=\"display:table-cell; border:1px solid lightgrey; width:20%\">\n",
    "            <div style=\"display:table-cell; width:10%; text-align:center; background-color:whitesmoke;\">\n",
    "                <a href=\"#1\">Назад</a>\n",
    "            </div>\n",
    "            <div style=\"display:table-cell; width:10%; text-align:center;\">\n",
    "                <a href=\"#1b\">Далее</a>\n",
    "            </div>\n",
    "        </div>\n",
    "    </div>\n",
    "</div>"
   ]
  },
  {
   "cell_type": "markdown",
   "metadata": {},
   "source": [
    "<div class=\"msg-block msg-imp\">\n",
    "  <span class=\"msg-text-imp\"></span>\n",
    "  <p>\n",
    "      Проверьте, что на машине с Cloudera'ой установлен и работает Zookeeper\n",
    "  </p>\n",
    "  <div class=\"code-block\"><p class=\"code-font\"><span class=\"code-key\">zookeeper-server</span> status</p></div>\n",
    "</div>"
   ]
  },
  {
   "cell_type": "markdown",
   "metadata": {},
   "source": [
    "<p><b>Вариант 1</b></p>"
   ]
  },
  {
   "cell_type": "code",
   "execution_count": null,
   "metadata": {
    "collapsed": true
   },
   "outputs": [],
   "source": [
    "Cloudera Manager -> Parcels -> Kafka -> Download -> Distribute -> Activate"
   ]
  },
  {
   "cell_type": "code",
   "execution_count": null,
   "metadata": {
    "collapsed": true
   },
   "outputs": [],
   "source": [
    "Clusters -> Cloudera QuickStart -> Actions -> Add Service -> Kafka\n",
    "If the \"runOutMemory\" error appears, change kafka configuration property \"Java Heap Size of Broker\" to 250MB\n",
    "If failed, check whether zookepper is run"
   ]
  },
  {
   "cell_type": "markdown",
   "metadata": {},
   "source": [
    "<p><b>Вариант 2</b></p>"
   ]
  },
  {
   "cell_type": "markdown",
   "metadata": {},
   "source": [
    "<p>Установите <span class=\"code-font code-text-key\">Kafka</span>-клиент</p>"
   ]
  },
  {
   "cell_type": "code",
   "execution_count": null,
   "metadata": {
    "collapsed": true
   },
   "outputs": [],
   "source": [
    "sudo yum install kafka"
   ]
  },
  {
   "cell_type": "markdown",
   "metadata": {},
   "source": [
    "<p>Установите <span class=\"code-font code-text-key\">Kafka</span>-сервер</p>"
   ]
  },
  {
   "cell_type": "code",
   "execution_count": null,
   "metadata": {
    "collapsed": true
   },
   "outputs": [],
   "source": [
    "sudo yum install kafka-server"
   ]
  },
  {
   "cell_type": "markdown",
   "metadata": {},
   "source": [
    "В файле <span class=\"code-font\">/etc/kafka/conf/server.properties</span> проверьте параметры"
   ]
  },
  {
   "cell_type": "code",
   "execution_count": null,
   "metadata": {
    "collapsed": true
   },
   "outputs": [],
   "source": [
    "broker.id=0\n",
    "listeners=PLAINTEXT://:9092\n",
    "zookeeper.connect=localhost:2181"
   ]
  },
  {
   "cell_type": "markdown",
   "metadata": {},
   "source": [
    "<p>Запустите <span class=\"code-font code-text-key\">Kafka</span>-сервер</p>"
   ]
  },
  {
   "cell_type": "code",
   "execution_count": null,
   "metadata": {
    "collapsed": true
   },
   "outputs": [],
   "source": [
    "sudo service kafka-server start"
   ]
  },
  {
   "cell_type": "markdown",
   "metadata": {},
   "source": [
    "<p>или</p>"
   ]
  },
  {
   "cell_type": "code",
   "execution_count": null,
   "metadata": {
    "collapsed": true
   },
   "outputs": [],
   "source": [
    "sudo /usr/lib/kafka/bin/kafka-server-start.sh /etc/kafka/conf/server.properties"
   ]
  },
  {
   "cell_type": "markdown",
   "metadata": {},
   "source": [
    "<p>Запустите клиента <span class=\"code-font code-text-key\">Zookeeper</span></p>"
   ]
  },
  {
   "cell_type": "code",
   "execution_count": null,
   "metadata": {
    "collapsed": true
   },
   "outputs": [],
   "source": [
    "zookeeper-client"
   ]
  },
  {
   "cell_type": "markdown",
   "metadata": {},
   "source": [
    "<p>Проверьте, что брокеры <span class=\"code-font code-text-key\">Kafka</span> зарегистрированы в <span class=\"code-font code-text-key\">Zookeeper</span></p>"
   ]
  },
  {
   "cell_type": "code",
   "execution_count": null,
   "metadata": {
    "collapsed": true
   },
   "outputs": [],
   "source": [
    "#Список всех брокеров\n",
    "ls /brokers/ids\n",
    "\n",
    "#broker.id=0\n",
    "get /brokers/ids/0\n",
    "\n",
    "#выход\n",
    "quit"
   ]
  },
  {
   "cell_type": "markdown",
   "metadata": {},
   "source": [
    "<div class=\"msg-block msg-info\">\n",
    "  <span class=\"msg-text-info\">Замечание! </span> <p>Про установку и настройку Kafka на Cloudera смотрите по ссылке ниже</p>\n",
    "  <a href=\"http://www.cloudera.com/documentation/kafka/latest/topics/kafka_installing.html#concept_ngx_4l4_4r\">http://www.cloudera.com/documentation/kafka/latest/topics/kafka_installing.html#concept_ngx_4l4_4r</a>\n",
    "</div>"
   ]
  },
  {
   "cell_type": "markdown",
   "metadata": {},
   "source": [
    "<p>Создайте топик в <span class=\"code-font code-text-key\">Kafka</span></p>"
   ]
  },
  {
   "cell_type": "code",
   "execution_count": null,
   "metadata": {
    "collapsed": true
   },
   "outputs": [],
   "source": [
    "kafka-topics --create --zookeeper localhost:2181 --topic wordCount --partition 1 --replication-factor 1"
   ]
  },
  {
   "cell_type": "markdown",
   "metadata": {},
   "source": [
    "<p>Проверьте, что топик зарегистрирован в <span class=\"code-font code-text-key\">Zookeeper</span></p>"
   ]
  },
  {
   "cell_type": "code",
   "execution_count": null,
   "metadata": {
    "collapsed": true
   },
   "outputs": [],
   "source": [
    "zookeeper-client\n",
    "\n",
    "ls /brokers/topics"
   ]
  },
  {
   "cell_type": "markdown",
   "metadata": {},
   "source": [
    "<p>Проверка работы</p>"
   ]
  },
  {
   "cell_type": "code",
   "execution_count": null,
   "metadata": {
    "collapsed": true
   },
   "outputs": [],
   "source": [
    "kafka-console-consumer --zookeeper localhost:2181 --topic tweets-kafka --from-beginning"
   ]
  },
  {
   "cell_type": "code",
   "execution_count": null,
   "metadata": {
    "collapsed": true
   },
   "outputs": [],
   "source": [
    "kafka-console-producer --broker-list localhost:9092 -topic wordCount"
   ]
  },
  {
   "cell_type": "markdown",
   "metadata": {},
   "source": [
    "<a name=\"1b\"></a>\n",
    "<div style=\"display:table; width:100%\">\n",
    "    <div style=\"display:table-row\">\n",
    "        <div style=\"display:table-cell; width:80%; font-style:italic; font-weight:bold; font-size:12pt\">\n",
    "            b. Запуск кода в Spark Streaming\n",
    "        </div>\n",
    "        <div style=\"display:table-cell; border:1px solid lightgrey; width:20%\">\n",
    "            <div style=\"display:table-cell; width:10%; text-align:center; background-color:whitesmoke;\">\n",
    "                <a href=\"#1a\">Назад</a>\n",
    "            </div>\n",
    "            <div style=\"display:table-cell; width:10%; text-align:center;\">\n",
    "                <a href=\"#1c\">Далее</a>\n",
    "            </div>\n",
    "        </div>\n",
    "    </div>\n",
    "</div>"
   ]
  },
  {
   "cell_type": "markdown",
   "metadata": {},
   "source": [
    "<p>Сохраните исходный код в файле</p>"
   ]
  },
  {
   "cell_type": "code",
   "execution_count": 3,
   "metadata": {
    "collapsed": true
   },
   "outputs": [],
   "source": [
    "# Полный путь, где будет храниться файл с исходным кодом\n",
    "spStreamKafka = \"/YOUR_PATH/wordcount_streaming.py\""
   ]
  },
  {
   "cell_type": "code",
   "execution_count": null,
   "metadata": {
    "collapsed": true
   },
   "outputs": [],
   "source": [
    "# Сохраняем исходный код в файле wordcount_streaming.py\n",
    "%writefile $spStreamKafka\n",
    "\n",
    "# -*- coding: utf-8 -*-\n",
    "\n",
    "import sys\n",
    "\n",
    "from pyspark import SparkContext\n",
    "from pyspark.streaming import StreamingContext\n",
    "from pyspark.streaming.kafka import KafkaUtils\n",
    "\n",
    "zk_server = \"localhost:2181\" # сервер Zookeeper\n",
    "topic = \"wordCount\" # топик\n",
    "\n",
    "# Функция для обновления значений количества слов\n",
    "def updateTotalCount(currentCount, countState):\n",
    "    if countState is None:\n",
    "        countState = 0\n",
    "    return sum(currentCount, countState)\n",
    "\n",
    "# Создаем Spark Context\n",
    "sc = SparkContext(appName=\"KafkaWordCount\")\n",
    "\n",
    "sc.setLogLevel(\"OFF\")\n",
    "\n",
    "# Создаем Streaming Context\n",
    "ssc = StreamingContext(sc, 10)\n",
    "\n",
    "# Объявляем checkpoint и указываем директорию в HDFS, где будут храниться значения\n",
    "ssc.checkpoint(\"tmp_spark_streaming1\")\n",
    "\n",
    "# Создаем подписчика на поток от Kafka c топиком topic = \"wordCount\"\n",
    "kafka_stream = KafkaUtils.createStream(ssc, zk_server, \"spark-streaming-consumer\", {topic: 1})\n",
    "\n",
    "# Трансформируем мини-batch \n",
    "lines = kafka_stream.map(lambda x: x[1])\n",
    "\n",
    "# Подсчитывем количество слов для мини-batch\n",
    "counts = lines.flatMap(lambda line: line.split()).map(lambda word: (word, 1)).reduceByKey(lambda x1, x2: x1 + x2)\n",
    "\n",
    "# Обновляем значения количества слов с учетом нового мини-batch\n",
    "total_counts = counts.updateStateByKey(updateTotalCount)\n",
    "\n",
    "# Выводим текущий результат\n",
    "total_counts.pprint()\n",
    "\n",
    "# Запускаем Spark Streaming\n",
    "ssc.start()\n",
    "\n",
    "# Ожидаем остановку\n",
    "ssc.awaitTermination()"
   ]
  },
  {
   "cell_type": "markdown",
   "metadata": {},
   "source": [
    "<p>Запустите код в <span class=\"code-font code-text-key\">Spark Streaming</span></p>"
   ]
  },
  {
   "cell_type": "code",
   "execution_count": null,
   "metadata": {
    "collapsed": true
   },
   "outputs": [],
   "source": [
    "spark-submit \\\n",
    "--master local[2] \\\n",
    "#--conf \"spark.dynamicAllocation.enabled=false\" \\\n",
    "#--packages org.apache.spark:spark-streaming-kafka-0-8_2.11:2.0.2 \\\n",
    "/home/cloudera/wordcount_streaming.py"
   ]
  },
  {
   "cell_type": "markdown",
   "metadata": {},
   "source": [
    "<a name=\"1c\"></a>\n",
    "<div style=\"display:table; width:100%\">\n",
    "    <div style=\"display:table-row\">\n",
    "        <div style=\"display:table-cell; width:80%; font-style:italic; font-weight:bold; font-size:12pt\">\n",
    "            c. Проверка работоспособности\n",
    "        </div>\n",
    "        <div style=\"display:table-cell; border:1px solid lightgrey; width:20%\">\n",
    "            <div style=\"display:table-cell; width:10%; text-align:center; background-color:whitesmoke;\">\n",
    "                <a href=\"#1b\">Назад</a>\n",
    "            </div>\n",
    "            <div style=\"display:table-cell; width:10%; text-align:center;\">\n",
    "                <a href=\"#2\">Далее</a>\n",
    "            </div>\n",
    "        </div>\n",
    "    </div>\n",
    "</div>"
   ]
  },
  {
   "cell_type": "markdown",
   "metadata": {},
   "source": [
    "<p>Откройте новый терминал и запустите  <span class=\"code-font\">producer</span> <span class=\"code-font code-text-key\">Kafka</span></p>"
   ]
  },
  {
   "cell_type": "code",
   "execution_count": null,
   "metadata": {
    "collapsed": true
   },
   "outputs": [],
   "source": [
    "kafka-console-producer --broker-list localhost:9092 -topic wordCount"
   ]
  },
  {
   "cell_type": "markdown",
   "metadata": {},
   "source": [
    "<p>Введите в терминале слова и отслеживайте изменения в терминале, в котором запущена программа под <span class=\"code-font code-text-key\">Spark Streaming</span></p>"
   ]
  },
  {
   "cell_type": "markdown",
   "metadata": {},
   "source": [
    "<p>Если происходит подсчет слов, значит всё работает</p>"
   ]
  },
  {
   "cell_type": "markdown",
   "metadata": {},
   "source": [
    "<div class=\"msg-block msg-info\">\n",
    "  <span class=\"msg-text-info\">Замечание! </span> <p>Про запуск и проверку работы программы Spark Streaming и Kafka  смотрите по ссылкам ниже</p>\n",
    "  <a href=\"https://www.cloudera.com/documentation/enterprise/5-8-x/topics/spark_streaming.html\">https://www.cloudera.com/documentation/enterprise/5-8-x/topics/spark_streaming.html</a><br>\n",
    "<a href=\"https://www.hugopicado.com/2016/09/17/spark-stateful-streaming-with-python.html\">https://www.hugopicado.com/2016/09/17/spark-stateful-streaming-with-python.html</a><br>\n",
    "</div>"
   ]
  },
  {
   "cell_type": "markdown",
   "metadata": {},
   "source": [
    "<a name=\"2\"></a>\n",
    "<div style=\"display:table; width:100%; padding-top:10px; padding-bottom:10px; border-bottom:1px solid lightgrey\">\n",
    "    <div style=\"display:table-row\">\n",
    "        <div style=\"display:table-cell; width:80%; font-size:14pt; font-weight:bold\">2. Источники</div>\n",
    "    \t<div style=\"display:table-cell; width:20%; text-align:center; background-color:whitesmoke; border:1px solid lightgrey\"><a href=\"#0\">К содержанию</a></div>\n",
    "    </div>\n",
    "</div>"
   ]
  },
  {
   "cell_type": "code",
   "execution_count": null,
   "metadata": {
    "collapsed": true
   },
   "outputs": [],
   "source": [
    "http://www.cloudera.com/documentation/kafka/latest/topics/kafka_installing.html\n",
    "https://www.cloudera.com/documentation/enterprise/5-8-x/topics/spark_streaming.html\n",
    "https://www.hugopicado.com/2016/09/17/spark-stateful-streaming-with-python.html"
   ]
  }
 ],
 "metadata": {
  "kernelspec": {
   "display_name": "Python 3",
   "language": "python",
   "name": "python3"
  },
  "language_info": {
   "codemirror_mode": {
    "name": "ipython",
    "version": 3
   },
   "file_extension": ".py",
   "mimetype": "text/x-python",
   "name": "python",
   "nbconvert_exporter": "python",
   "pygments_lexer": "ipython3",
   "version": "3.5.2"
  }
 },
 "nbformat": 4,
 "nbformat_minor": 2
}
