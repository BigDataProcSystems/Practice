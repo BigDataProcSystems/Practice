{
 "cells": [
  {
   "cell_type": "markdown",
   "metadata": {},
   "source": [
    "<div style=\"font-size:18pt; padding-top:20px; text-align:center\"><b>Introduction to Graph Analysis with </b> <span style=\"font-weight:bold; color:green\">Spark GraphFrames</span></div><hr>\n",
    "<div style=\"text-align:right;\">Sergei Papulin <span style=\"font-style: italic;font-weight: bold;\">(papulin_bmstu@mail.ru)</span></div>"
   ]
  },
  {
   "cell_type": "markdown",
   "metadata": {},
   "source": [
    "<a name=\"0\"></a>\n",
    "<div><span style=\"font-size:14pt; font-weight:bold\">Contents</span>\n",
    "    <ol>\n",
    "        <li><a href=\"#1\">Initial dataset</a></li>\n",
    "        <li><a href=\"#2\">Graph analysis with GraphFrames</a></li>\n",
    "        <li><a href=\"#3\">References</a></li>\n",
    "    </ol>\n",
    "</div>"
   ]
  },
  {
   "cell_type": "markdown",
   "metadata": {},
   "source": [
    "Install the `Folium` python library to plot maps:\n",
    "\n",
    "`pip install folium --user`"
   ]
  },
  {
   "cell_type": "code",
   "execution_count": null,
   "metadata": {},
   "outputs": [],
   "source": [
    "import folium"
   ]
  },
  {
   "cell_type": "markdown",
   "metadata": {},
   "source": [
    "[OPTIONAL] **Environment Setup**"
   ]
  },
  {
   "cell_type": "code",
   "execution_count": null,
   "metadata": {},
   "outputs": [],
   "source": [
    "import os\n",
    "import sys\n",
    "\n",
    "os.environ[\"SPARK_HOME\"]=\"/usr/lib/spark\"\n",
    "os.environ[\"PYSPARK_PYTHON\"]=\"/opt/anaconda3/bin/python\"\n",
    "os.environ[\"PYSPARK_DRIVER_PYTHON\"]=\"/opt/anaconda3/bin/python\"\n",
    "\n",
    "spark_home = os.environ.get(\"SPARK_HOME\")\n",
    "sys.path.insert(0, os.path.join(spark_home, \"python\"))\n",
    "sys.path.insert(0, os.path.join(spark_home, \"python/lib/py4j-0.10.7-src.zip\"))"
   ]
  },
  {
   "cell_type": "markdown",
   "metadata": {},
   "source": [
    "Run Spark Context"
   ]
  },
  {
   "cell_type": "code",
   "execution_count": null,
   "metadata": {},
   "outputs": [],
   "source": [
    "import pyspark\n",
    "from pyspark.sql import SparkSession"
   ]
  },
  {
   "cell_type": "markdown",
   "metadata": {},
   "source": [
    "To use Spark GraphFrames you have to download its package and deploy it on the driver and executors. You can define maven packages by specifying the `spark.jars.packages` configuration paramenter of `SparkConf` as follows:"
   ]
  },
  {
   "cell_type": "code",
   "execution_count": null,
   "metadata": {},
   "outputs": [],
   "source": [
    "conf = pyspark.SparkConf() \\\n",
    "        .set(\"spark.executor.memory\", \"1g\") \\\n",
    "        .set(\"spark.executor.core\", \"2\") \\\n",
    "        .set(\"spark.jars.packages\", \"graphframes:graphframes:0.6.0-spark2.3-s_2.11\")\\\n",
    "        .setAppName(\"airGraphApp\") \\\n",
    "        .setMaster(\"local[4]\")"
   ]
  },
  {
   "cell_type": "code",
   "execution_count": null,
   "metadata": {},
   "outputs": [],
   "source": [
    "spark = SparkSession \\\n",
    "    .builder \\\n",
    "    .config(conf=conf) \\\n",
    "    .getOrCreate()"
   ]
  },
  {
   "cell_type": "markdown",
   "metadata": {},
   "source": [
    "After starting the Spark context, you can import the `GraphFrames` module:"
   ]
  },
  {
   "cell_type": "code",
   "execution_count": null,
   "metadata": {},
   "outputs": [],
   "source": [
    "import graphframes as gf"
   ]
  },
  {
   "cell_type": "markdown",
   "metadata": {},
   "source": [
    "<a name=\"1\"></a>\n",
    "<div style=\"display:table; width:100%; padding-top:10px; padding-bottom:10px; border-bottom:1px solid lightgrey\">\n",
    "    <div style=\"display:table-row\">\n",
    "        <div style=\"display:table-cell; width:80%; font-size:14pt; font-weight:bold\">1. Initial dataset</div>\n",
    "    \t<div style=\"display:table-cell; width:20%; text-align:center; background-color:whitesmoke; border:1px solid lightgrey\"><a href=\"#0\">To contents</a></div>\n",
    "    </div>\n",
    "</div>"
   ]
  },
  {
   "cell_type": "code",
   "execution_count": null,
   "metadata": {},
   "outputs": [],
   "source": [
    "import pyspark.sql.functions as F\n",
    "from pyspark.sql.types import StructType, StructField, StringType, IntegerType, DoubleType"
   ]
  },
  {
   "cell_type": "markdown",
   "metadata": {},
   "source": [
    "#### Airports"
   ]
  },
  {
   "cell_type": "markdown",
   "metadata": {},
   "source": [
    "Download the `airports` dataset from the [openflights](https://openflights.org/data.html) website. \n",
    "\n",
    "Each entry of the dataset contains the following information:\n",
    "\n",
    "<p>\n",
    "<div style=\"width: 600px;\">\n",
    "    \n",
    "|Parameter|Description|\n",
    "|:-|:-|\n",
    "|Airport ID |Unique OpenFlights identifier for this airport.|\n",
    "|Name |Name of airport. May or may not contain the City name.|\n",
    "|City |\tMain city served by airport. May be spelled differently from Name.|\n",
    "|Country |Country or territory where airport is located. See countries.dat to cross-reference to ISO 3166-1 codes.|\n",
    "|IATA|\t3-letter IATA code. Null if not assigned/unknown.|\n",
    "|ICAO|\t4-letter ICAO code. Null if not assigned.|\n",
    "|Latitude|\tDecimal degrees, usually to six significant digits. Negative is South, positive is North.|\n",
    "|Longitude|\tDecimal degrees, usually to six significant digits. Negative is West, positive is East.|\n",
    "|Altitude|\tIn feet.|\n",
    "|Timezone|\tHours offset from UTC. Fractional hours are expressed as decimals, eg. India is 5.5.|\n",
    "|DST|\tDaylight savings time. One of E (Europe), A (US/Canada), S (South America), O (Australia), Z (New Zealand), N (None) or U (Unknown). See also: Help: Time|\n",
    "|Tz| database time zone\tTimezone in \"tz\" (Olson) format, eg. \"America/Los_Angeles\".|\n",
    "|Type|\tType of the airport. Value \"airport\" for air terminals, \"station\" for train stations, \"port\" for ferry terminals and \"unknown\" if not known. In airports.csv, only type=airport is included.|\n",
    "|Source|\tSource of this data. \"OurAirports\" for data sourced from OurAirports, \"Legacy\" for old data not matched to OurAirports (mostly DAFIF), \"User\" for unverified user contributions. In airports.csv, only source=OurAirports is included|\n",
    "\n",
    "</div>\n",
    "</p>"
   ]
  },
  {
   "cell_type": "markdown",
   "metadata": {},
   "source": [
    "Define Spark DataFrame scheme of data:"
   ]
  },
  {
   "cell_type": "code",
   "execution_count": null,
   "metadata": {},
   "outputs": [],
   "source": [
    "airportSchema = StructType([\n",
    "    StructField(name=\"airport_id\", dataType=IntegerType(), nullable=False),\n",
    "    StructField(\"name\", StringType(), True),\n",
    "    StructField(\"city\", StringType(), True),\n",
    "    StructField(\"country\", StringType(), True),\n",
    "    StructField(\"iata\", StringType(), True),\n",
    "    StructField(\"icao\", StringType(), True),\n",
    "    StructField(\"lat\", DoubleType(), True),\n",
    "    StructField(\"lng\", DoubleType(), True),\n",
    "    StructField(\"alt\", IntegerType(), True)])\n",
    "#    StructField(\"timezone\", StringType(), True),\n",
    "#     StructField(\"dst\", StringType(), True),\n",
    "#     StructField(\"tz\", StringType(), True),\n",
    "#     StructField(\"type\", StringType(), True),\n",
    "#     StructField(\"source\", StringType(), True)])"
   ]
  },
  {
   "cell_type": "markdown",
   "metadata": {},
   "source": [
    "Path to the downloaded file:"
   ]
  },
  {
   "cell_type": "code",
   "execution_count": null,
   "metadata": {},
   "outputs": [],
   "source": [
    "airports_data_path = \"file:///YOUR_PATH/data/airlines/airports.dat\""
   ]
  },
  {
   "cell_type": "markdown",
   "metadata": {},
   "source": [
    "[OPTIONAL] Copy the local dataset to HDFS"
   ]
  },
  {
   "cell_type": "markdown",
   "metadata": {},
   "source": [
    "Load the `airports` data:"
   ]
  },
  {
   "cell_type": "code",
   "execution_count": null,
   "metadata": {
    "scrolled": true
   },
   "outputs": [],
   "source": [
    "df_airports = spark.read.load(airports_data_path, \n",
    "                              format=\"csv\", \n",
    "                              header=\"false\", \n",
    "                              schema=airportSchema,\n",
    "                              inferSchema=\"false\",\n",
    "                              sep=\",\")\n",
    "\n",
    "print(\"Total number of airports:\", df_airports.count())\n",
    "df_airports.show(5)"
   ]
  },
  {
   "cell_type": "markdown",
   "metadata": {},
   "source": [
    "Display the dataframe scheme of the loaded data:"
   ]
  },
  {
   "cell_type": "code",
   "execution_count": null,
   "metadata": {},
   "outputs": [],
   "source": [
    "df_airports.printSchema()"
   ]
  },
  {
   "cell_type": "markdown",
   "metadata": {},
   "source": [
    "Filter the airports to get all ones located in Moscow, Russia:"
   ]
  },
  {
   "cell_type": "code",
   "execution_count": null,
   "metadata": {},
   "outputs": [],
   "source": [
    "moscow_airport_filter = F.lower(F.col(\"country\")).like(\"rus%\") & F.lower(F.col(\"city\")).like(\"mos%\")"
   ]
  },
  {
   "cell_type": "code",
   "execution_count": null,
   "metadata": {},
   "outputs": [],
   "source": [
    "df_airports.where(moscow_airport_filter).show(5)"
   ]
  },
  {
   "cell_type": "code",
   "execution_count": null,
   "metadata": {},
   "outputs": [],
   "source": [
    "m = folium.Map()\n",
    "\n",
    "html_template = \"<p><b>Name:</b> {0}</br><b>IATA</b>: {1}</br><b>City</b>: {2}</br><b>Country:</b> {3}</p>\"\n",
    "\n",
    "for index, row in df_airports.where(moscow_airport_filter).toPandas().iterrows():\n",
    "    folium.Marker([row[\"lat\"], row[\"lng\"]], \n",
    "                  popup=folium.Popup(html=html_template.format(row[\"name\"], row[\"iata\"], \n",
    "                                                               row[\"city\"], row[\"country\"]), \n",
    "                                     max_width=400), \n",
    "                  tooltip=\"{}\".format(row[\"name\"])).add_to(m)\n",
    "\n",
    "m.fit_bounds(m.get_bounds())\n",
    "m"
   ]
  },
  {
   "cell_type": "code",
   "execution_count": null,
   "metadata": {},
   "outputs": [],
   "source": [
    "df_airports.where(F.col(\"iata\")==\"SVO\").show()"
   ]
  },
  {
   "cell_type": "markdown",
   "metadata": {},
   "source": [
    "### Routes\n",
    "(2014)"
   ]
  },
  {
   "cell_type": "markdown",
   "metadata": {},
   "source": [
    "Download the `routes` dataset from the [openflights](https://openflights.org/data.html) website. \n",
    "\n",
    "Each entry of the dataset contains the following information:\n",
    "\n",
    "<p>\n",
    "<div style=\"width: 600px;\">\n",
    "\n",
    "|Parameter|Description|\n",
    "|:-|:-|\n",
    "|Airline|\t2-letter (IATA) or 3-letter (ICAO) code of the airline.|\n",
    "|Airline ID|\tUnique OpenFlights identifier for airline (see Airline).|\n",
    "|Source airport|\t3-letter (IATA) or 4-letter (ICAO) code of the source airport.|\n",
    "|Source airport ID|\tUnique OpenFlights identifier for source airport (see Airport)|\n",
    "|Destination airport|\t3-letter (IATA) or 4-letter (ICAO) code of the destination airport.|\n",
    "|Destination airport ID|\tUnique OpenFlights identifier for destination airport (see Airport)|\n",
    "|Codeshare|\t\"Y\" if this flight is a codeshare (that is, not operated by Airline, but another carrier), empty otherwise.|\n",
    "|Stops|\tNumber of stops on this flight (\"0\" for direct)|\n",
    "|Equipment|\t3-letter codes for plane type(s) generally used on this flight, separated by spaces|\n",
    "\n",
    "</div>\n",
    "</p>"
   ]
  },
  {
   "cell_type": "markdown",
   "metadata": {},
   "source": [
    "Define Spark DataFrame scheme of data:"
   ]
  },
  {
   "cell_type": "code",
   "execution_count": null,
   "metadata": {},
   "outputs": [],
   "source": [
    "routeSchema = StructType([\n",
    "    StructField(\"airline\", StringType(), False),\n",
    "    StructField(\"airline_id\", IntegerType(), True),\n",
    "    StructField(\"src_airport\", StringType(), True),\n",
    "    StructField(\"src_airport_id\", IntegerType(), True),\n",
    "    StructField(\"dst_airport\", StringType(), True),\n",
    "    StructField(\"dst_airport_id\", IntegerType(), True),\n",
    "    StructField(\"codeshare\", StringType(), True),\n",
    "    StructField(\"stops\", IntegerType(), True),\n",
    "    StructField(\"equipment\", StringType(), True)])"
   ]
  },
  {
   "cell_type": "markdown",
   "metadata": {},
   "source": [
    "Path to the downloaded file:"
   ]
  },
  {
   "cell_type": "code",
   "execution_count": null,
   "metadata": {},
   "outputs": [],
   "source": [
    "routes_data_path = \"file:///YOUR_PATH/data/airlines/routes.dat\""
   ]
  },
  {
   "cell_type": "markdown",
   "metadata": {},
   "source": [
    "[OPTIONAL] Copy the local dataset to HDFS"
   ]
  },
  {
   "cell_type": "markdown",
   "metadata": {},
   "source": [
    "Load the `routes` data:"
   ]
  },
  {
   "cell_type": "code",
   "execution_count": null,
   "metadata": {},
   "outputs": [],
   "source": [
    "df_routes_raw = spark.read.load(routes_data_path, \n",
    "                              format=\"csv\", \n",
    "                              header=\"false\", \n",
    "                              schema=routeSchema,\n",
    "                              inferSchema=\"false\",\n",
    "                              sep=\",\")\n",
    "\n",
    "print(\"Total number of routes:\", df_routes_raw.count())\n",
    "df_routes_raw.show(5)"
   ]
  },
  {
   "cell_type": "markdown",
   "metadata": {},
   "source": [
    "Filter `routes` without stops:"
   ]
  },
  {
   "cell_type": "code",
   "execution_count": null,
   "metadata": {},
   "outputs": [],
   "source": [
    "df_routes = df_routes_raw.where(F.col(\"stops\") == 0)\n",
    "df_routes.count()"
   ]
  },
  {
   "cell_type": "markdown",
   "metadata": {},
   "source": [
    "Retrieve all routes from `df_routes` where a source is `SVO` (Sheremetyevo, Moscow, Russia) and attach to them coordinates of source and destination airports:"
   ]
  },
  {
   "cell_type": "code",
   "execution_count": null,
   "metadata": {},
   "outputs": [],
   "source": [
    "df_routes_coord = df_routes.select(\"src_airport\", \"dst_airport\")\\\n",
    "        .where((F.col(\"src_airport\")==\"SVO\")).distinct()\\\n",
    "        .join(df_airports.select(F.col(\"iata\").alias(\"src\"), \n",
    "                                 F.col(\"lat\").alias(\"src_lat\"), \n",
    "                                 F.col(\"lng\").alias(\"src_lng\")), \n",
    "              on=[F.col(\"src_airport\")==F.col(\"src\")])\\\n",
    "        .join(df_airports.select(F.col(\"iata\").alias(\"dst\"), \n",
    "                                 F.col(\"city\").alias(\"dst_city\"),\n",
    "                                 F.col(\"country\").alias(\"dst_country\"),\n",
    "                                 F.col(\"lat\").alias(\"dst_lat\"), \n",
    "                                 F.col(\"lng\").alias(\"dst_lng\")), \n",
    "              on=[F.col(\"dst_airport\")==F.col(\"dst\")])\n",
    "\n",
    "print(\"Number of routes from SVO:\", df_routes_coord.count())\n",
    "print(\"Number of countries:\", df_routes_coord.select(\"dst_country\").distinct().count())\n",
    "df_routes_coord.show(5)"
   ]
  },
  {
   "cell_type": "markdown",
   "metadata": {},
   "source": [
    "Display the routes on map:"
   ]
  },
  {
   "cell_type": "code",
   "execution_count": null,
   "metadata": {},
   "outputs": [],
   "source": [
    "df_routs_coord_pn = df_routes_coord.toPandas()"
   ]
  },
  {
   "cell_type": "code",
   "execution_count": null,
   "metadata": {},
   "outputs": [],
   "source": [
    "df_routs_coord_pn.iloc[0][\"src_lat\"]"
   ]
  },
  {
   "cell_type": "code",
   "execution_count": null,
   "metadata": {
    "scrolled": true
   },
   "outputs": [],
   "source": [
    "m = folium.Map()\n",
    "\n",
    "df_routs_coord_pn = df_routes_coord.toPandas()\n",
    "df_source_coord_pn = df_airports.where(F.col(\"iata\")==\"SVO\").toPandas()\n",
    "\n",
    "# Destinations\n",
    "for index, row in df_routs_coord_pn.iterrows():\n",
    "    folium.PolyLine([(row[\"src_lat\"], row[\"src_lng\"]), (row[\"dst_lat\"], row[\"dst_lng\"])], \n",
    "                    color=\"#888888\", \n",
    "                    weight=0.5, \n",
    "                    opacity=0.5).add_to(m)    \n",
    "    folium.CircleMarker(location=(row[\"dst_lat\"], row[\"dst_lng\"]),\n",
    "                        radius= 5,\n",
    "                        tooltip=\"{0}</br>{1}</br>{2}\".format(row[\"dst\"], row[\"dst_city\"], row[\"dst_country\"]),\n",
    "                        color=\"seagreen\",\n",
    "                        fill_color=\"seagreen\",\n",
    "                        fill_opacity=0.5,\n",
    "                        fill=True).add_to(m)\n",
    "\n",
    "# Source\n",
    "first_row = df_source_coord_pn.iloc[0]\n",
    "folium.CircleMarker(location=(first_row[\"lat\"], first_row[\"lng\"]),\n",
    "                        radius= 5,\n",
    "                        tooltip=\"{0}</br>{1}</br>{2}\".format(first_row[\"iata\"], \n",
    "                                                             first_row[\"city\"], \n",
    "                                                             first_row[\"country\"]),\n",
    "                        color=\"red\",\n",
    "                        fill_color=\"red\",\n",
    "                        fill_opacity=0.5,\n",
    "                        fill=True).add_to(m)\n",
    "\n",
    "m.fit_bounds(m.get_bounds())\n",
    "m"
   ]
  },
  {
   "cell_type": "markdown",
   "metadata": {},
   "source": [
    "Find all routes from SVO (Moscow) to JFK (New York):"
   ]
  },
  {
   "cell_type": "code",
   "execution_count": null,
   "metadata": {},
   "outputs": [],
   "source": [
    "df_routes.where((F.col(\"src_airport\")==\"SVO\") & (F.col(\"dst_airport\")==\"JFK\")).show()"
   ]
  },
  {
   "cell_type": "markdown",
   "metadata": {},
   "source": [
    "<a name=\"2\"></a>\n",
    "<div style=\"display:table; width:100%; padding-top:10px; padding-bottom:10px; border-bottom:1px solid lightgrey\">\n",
    "    <div style=\"display:table-row\">\n",
    "        <div style=\"display:table-cell; width:80%; font-size:14pt; font-weight:bold\">2. Graph analysis with GraphFrames</div>\n",
    "    \t<div style=\"display:table-cell; width:20%; text-align:center; background-color:whitesmoke; border:1px solid lightgrey\"><a href=\"#0\">To contents</a></div>\n",
    "    </div>\n",
    "</div>"
   ]
  },
  {
   "cell_type": "markdown",
   "metadata": {},
   "source": [
    "[PySpark GraphFrames Package](https://graphframes.github.io/graphframes/docs/_site/api/python/graphframes.html#graphframes.GraphFrame)"
   ]
  },
  {
   "cell_type": "markdown",
   "metadata": {},
   "source": [
    "#### Creating graph"
   ]
  },
  {
   "cell_type": "markdown",
   "metadata": {},
   "source": [
    "Rename columns of initial `dataframes` to meet requirements of GrapFrames"
   ]
  },
  {
   "cell_type": "code",
   "execution_count": null,
   "metadata": {},
   "outputs": [],
   "source": [
    "df_vertices = df_airports.withColumnRenamed(\"iata\", \"id\")\n",
    "df_vertices.show(5)"
   ]
  },
  {
   "cell_type": "code",
   "execution_count": null,
   "metadata": {},
   "outputs": [],
   "source": [
    "df_edges = df_routes.select(F.col(\"src_airport\").alias(\"src\"), \n",
    "                            F.col(\"dst_airport\").alias(\"dst\"), \n",
    "                            \"airline\")\n",
    "df_edges.show(5)"
   ]
  },
  {
   "cell_type": "markdown",
   "metadata": {},
   "source": [
    "Initialize a `GraphFrame` instance for routes:"
   ]
  },
  {
   "cell_type": "code",
   "execution_count": null,
   "metadata": {},
   "outputs": [],
   "source": [
    "gf_routes = gf.GraphFrame(df_vertices, df_edges)\n",
    "gf_routes"
   ]
  },
  {
   "cell_type": "markdown",
   "metadata": {},
   "source": [
    "Display a triplet stucture of GraphFrame for the given data:"
   ]
  },
  {
   "cell_type": "code",
   "execution_count": null,
   "metadata": {},
   "outputs": [],
   "source": [
    "gf_routes.triplets.show()"
   ]
  },
  {
   "cell_type": "markdown",
   "metadata": {},
   "source": [
    "#### Degrees"
   ]
  },
  {
   "cell_type": "markdown",
   "metadata": {},
   "source": [
    "The number of edges incoming to each vertex:"
   ]
  },
  {
   "cell_type": "code",
   "execution_count": null,
   "metadata": {},
   "outputs": [],
   "source": [
    "gf_routes.inDegrees.orderBy(-F.col(\"inDegree\")).show()"
   ]
  },
  {
   "cell_type": "markdown",
   "metadata": {},
   "source": [
    "The number of edges outcoming from each vertex:"
   ]
  },
  {
   "cell_type": "code",
   "execution_count": null,
   "metadata": {},
   "outputs": [],
   "source": [
    "gf_routes.outDegrees.orderBy(-F.col(\"outDegree\")).show()"
   ]
  },
  {
   "cell_type": "markdown",
   "metadata": {},
   "source": [
    "#### PageRank"
   ]
  },
  {
   "cell_type": "markdown",
   "metadata": {},
   "source": [
    "Run the `PageRank` algorithm:"
   ]
  },
  {
   "cell_type": "code",
   "execution_count": null,
   "metadata": {},
   "outputs": [],
   "source": [
    "gf_routes_pr = gf_routes.pageRank(resetProbability=0.1, maxIter=5)"
   ]
  },
  {
   "cell_type": "markdown",
   "metadata": {},
   "source": [
    "Display airports sorted by the `pagerank` values in decreasing order"
   ]
  },
  {
   "cell_type": "code",
   "execution_count": null,
   "metadata": {},
   "outputs": [],
   "source": [
    "gf_routes_pr.vertices\\\n",
    "            .select(\"id\", \"name\", \"city\", \"country\", \"pagerank\")\\\n",
    "            .orderBy(-F.col(\"pagerank\"))\\\n",
    "            .show()"
   ]
  },
  {
   "cell_type": "markdown",
   "metadata": {},
   "source": [
    "Attach in-degrees and out-degrees of the vertices:"
   ]
  },
  {
   "cell_type": "code",
   "execution_count": null,
   "metadata": {},
   "outputs": [],
   "source": [
    "gf_routes_pr.vertices\\\n",
    "            .select(\"id\", \"name\", \"city\", \"country\", \"pagerank\")\\\n",
    "            .join(gf_routes.inDegrees, on=[\"id\"])\\\n",
    "            .join(gf_routes.outDegrees, on=[\"id\"])\\\n",
    "            .orderBy(-F.col(\"pagerank\"))\\\n",
    "            .show()"
   ]
  },
  {
   "cell_type": "markdown",
   "metadata": {},
   "source": [
    "#### Motif"
   ]
  },
  {
   "cell_type": "markdown",
   "metadata": {},
   "source": [
    "Find all routes with the following pattern: KUF(Samara) -> X -> BCN(Barcelona) where an airline is SU (Aeroflot) or S7 from KUF to X: "
   ]
  },
  {
   "cell_type": "code",
   "execution_count": null,
   "metadata": {},
   "outputs": [],
   "source": [
    "motifs = gf_routes.find(\"(a)-[ab]->(b); (b)-[bc]->(c)\")\\\n",
    "                .filter(\"a.id = 'KUF' and (ab.airline = 'SU' or ab.airline = 'S7') and c.id = 'BCN'\")\n",
    "\n",
    "motifs.show(truncate=True)"
   ]
  },
  {
   "cell_type": "markdown",
   "metadata": {},
   "source": [
    "#### BFS"
   ]
  },
  {
   "cell_type": "markdown",
   "metadata": {},
   "source": [
    "Is any direct route from KUF to BCN?"
   ]
  },
  {
   "cell_type": "code",
   "execution_count": null,
   "metadata": {},
   "outputs": [],
   "source": [
    "df_paths = gf_routes.bfs(fromExpr = \"id = 'KUF'\", toExpr = \"id = 'BCN'\",  maxPathLength = 1)\n",
    "df_paths.show()"
   ]
  },
  {
   "cell_type": "markdown",
   "metadata": {},
   "source": [
    "Find route from KUF to BCN with single transfer where an airline is SU or S7 (note that `edgeFilter` is used for whole route, not for each edge):"
   ]
  },
  {
   "cell_type": "code",
   "execution_count": null,
   "metadata": {},
   "outputs": [],
   "source": [
    "df_paths = gf_routes.bfs(fromExpr = \"id = 'KUF'\", \n",
    "                         toExpr = \"id = 'BCN'\", \n",
    "                         edgeFilter=\"(airline = 'SU') or (airline = 'S7')\",\n",
    "                         maxPathLength = 2)\n",
    "df_paths.show()"
   ]
  },
  {
   "cell_type": "markdown",
   "metadata": {},
   "source": [
    "<a name=\"3\"></a>\n",
    "<div style=\"display:table; width:100%; padding-top:10px; padding-bottom:10px; border-bottom:1px solid lightgrey\">\n",
    "    <div style=\"display:table-row\">\n",
    "        <div style=\"display:table-cell; width:80%; font-size:14pt; font-weight:bold\">3. References</div>\n",
    "    \t<div style=\"display:table-cell; width:20%; text-align:center; background-color:whitesmoke; border:1px solid lightgrey\"><a href=\"#0\">To contents</a></div>\n",
    "    </div>\n",
    "</div>"
   ]
  },
  {
   "cell_type": "markdown",
   "metadata": {},
   "source": [
    "[Airport, airline and route data](https://openflights.org/data.html)\n",
    "\n",
    "[GraphFrames Overview](https://graphframes.github.io/graphframes/docs/_site/index.html)\n",
    "\n",
    "[PySpark GraphFrames Package](https://graphframes.github.io/graphframes/docs/_site/api/python/graphframes.html#graphframes.GraphFrame)\n",
    "\n",
    "[Folium](https://github.com/python-visualization/folium)\n",
    "\n",
    "[On-Time Flight Performance with GraphFrames for Apache Spark](https://databricks.com/blog/2016/03/16/on-time-flight-performance-with-graphframes-for-apache-spark.html)"
   ]
  },
  {
   "cell_type": "code",
   "execution_count": null,
   "metadata": {},
   "outputs": [],
   "source": []
  }
 ],
 "metadata": {
  "kernelspec": {
   "display_name": "Python 3",
   "language": "python",
   "name": "python3"
  },
  "language_info": {
   "codemirror_mode": {
    "name": "ipython",
    "version": 3
   },
   "file_extension": ".py",
   "mimetype": "text/x-python",
   "name": "python",
   "nbconvert_exporter": "python",
   "pygments_lexer": "ipython3",
   "version": "3.7.3"
  }
 },
 "nbformat": 4,
 "nbformat_minor": 2
}
