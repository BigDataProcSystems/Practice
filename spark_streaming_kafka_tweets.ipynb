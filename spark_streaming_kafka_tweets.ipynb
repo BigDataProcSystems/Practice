{
 "cells": [
  {
   "cell_type": "markdown",
   "metadata": {},
   "source": [
    "<div style=\"font-size:18pt; padding-top:20px; text-align:center\"><b>Spark Streaming and </b> <span style=\"font-weight:bold; color:green\">Twitter API</span></div><hr>\n",
    "<div style=\"text-align:right;\">Sergei Yu. Papulin <span style=\"font-style: italic;font-weight: bold;\">(papulin_bmstu@mail.ru)</span></div>"
   ]
  },
  {
   "cell_type": "markdown",
   "metadata": {},
   "source": [
    "<a name=\"0\"></a>\n",
    "<div><span style=\"font-size:14pt; font-weight:bold\">Contents</span>\n",
    "    <ol>\n",
    "        <li><a href=\"#1\">Kafka Topic Setup</a></li>\n",
    "        <li><a href=\"#2\">Kafka Producer and Twitter API for Python</a></li>\n",
    "        <li><a href=\"#3\">Kafka Consumer and Spark Streaming Word Count</a></li>\n",
    "        <li><a href=\"#4\">Run and Test</a></li>\n",
    "        <li><a href=\"#5\">Sources</a></li>\n",
    "    </ol>\n",
    "</div>"
   ]
  },
  {
   "cell_type": "markdown",
   "metadata": {},
   "source": [
    "<a name=\"1\"></a>\n",
    "<div style=\"display:table; width:100%; padding-top:10px; padding-bottom:10px; border-bottom:1px solid lightgrey\">\n",
    "    <div style=\"display:table-row\">\n",
    "        <div style=\"display:table-cell; width:80%; font-size:14pt; font-weight:bold\">1. Kafka Topic Setup</div>\n",
    "    \t<div style=\"display:table-cell; width:20%; text-align:center; background-color:whitesmoke; border:1px solid lightgrey\"><a href=\"#0\">To contents</a></div>\n",
    "    </div>\n",
    "</div>"
   ]
  },
  {
   "cell_type": "markdown",
   "metadata": {},
   "source": [
    "<p><b>Prerequisite:</b> Kafka Server and Client are installed and running (see the previous class)</p>"
   ]
  },
  {
   "cell_type": "markdown",
   "metadata": {},
   "source": [
    "<p>In terminal create the \"tweets-kafka\" topic that will refer to tweet stream from Twitter API</p>"
   ]
  },
  {
   "cell_type": "code",
   "execution_count": null,
   "metadata": {},
   "outputs": [],
   "source": [
    "kafka-topics --create --zookeeper localhost:2181 --topic tweets-kafka --partition 1 --replication-factor 1"
   ]
  },
  {
   "cell_type": "markdown",
   "metadata": {},
   "source": [
    "<p>Open a new terminal window to run the topic consumer</p>"
   ]
  },
  {
   "cell_type": "code",
   "execution_count": null,
   "metadata": {},
   "outputs": [],
   "source": [
    "kafka-console-consumer --zookeeper localhost:2181 --topic tweets-kafka --from-beginning"
   ]
  },
  {
   "cell_type": "markdown",
   "metadata": {},
   "source": [
    "<p>Open a new terminal window to run the topic producer and submit some message there (just for test). In the consumer terminal this message should appear</p>"
   ]
  },
  {
   "cell_type": "code",
   "execution_count": null,
   "metadata": {},
   "outputs": [],
   "source": [
    "kafka-console-producer --broker-list localhost:9092 -topic tweets-kafka"
   ]
  },
  {
   "cell_type": "markdown",
   "metadata": {},
   "source": [
    "<a name=\"2\"></a>\n",
    "<div style=\"display:table; width:100%; padding-top:10px; padding-bottom:10px; border-bottom:1px solid lightgrey\">\n",
    "    <div style=\"display:table-row\">\n",
    "        <div style=\"display:table-cell; width:80%; font-size:14pt; font-weight:bold\">2. Kafka Producer and Twitter API for Python</div>\n",
    "    \t<div style=\"display:table-cell; width:20%; text-align:center; background-color:whitesmoke; border:1px solid lightgrey\"><a href=\"#0\">To contents</a></div>\n",
    "    </div>\n",
    "</div>"
   ]
  },
  {
   "cell_type": "markdown",
   "metadata": {},
   "source": [
    "<p>Install python packages for Kafka and Twitter API use</p>"
   ]
  },
  {
   "cell_type": "code",
   "execution_count": null,
   "metadata": {},
   "outputs": [],
   "source": [
    "sudo pip install kafka-python, tweepy"
   ]
  },
  {
   "cell_type": "markdown",
   "metadata": {},
   "source": [
    "<p>Create a Kafka Producer that will receive messages from Twitter API and put them in Kafka Broker for the \"tweets-kafka\" topic</p>"
   ]
  },
  {
   "cell_type": "code",
   "execution_count": null,
   "metadata": {},
   "outputs": [],
   "source": [
    "# !!! COPY CONTENT OF THIS CELL AND PAST IT INTO SEPERATE PY FILE TO RUN IN TERMINAL !!!\n",
    "\n",
    "# -*- coding: utf-8 -*-\n",
    "\n",
    "import tweepy\n",
    "from tweepy.streaming import json\n",
    "from kafka import KafkaProducer\n",
    "\n",
    "\n",
    "\"\"\"\n",
    "\n",
    "    KAFKA PRODUCER INIT\n",
    "\n",
    "\n",
    "\"\"\"\n",
    "\n",
    "producer = KafkaProducer(bootstrap_servers=\"localhost:9092\")\n",
    "topic_name = \"tweets-kafka\"\n",
    "\n",
    "\n",
    "\n",
    "\"\"\"\n",
    "\n",
    "    TWITTER API AUTHENTICATION\n",
    "\n",
    "\n",
    "\"\"\"\n",
    "\n",
    "consumer_token = \"YOUR_CONSUMER_TOKEN\"\n",
    "consumer_secret = \"YOUR_CONSUMER_SECRET\" \n",
    "access_token = \"YOUR_ACCESS_TOKEN\"\n",
    "access_secret = \"YOUR_ACCESS_SECRET\"\n",
    "\n",
    "auth = tweepy.OAuthHandler(consumer_token, consumer_secret)\n",
    "auth.set_access_token(access_token, access_secret)\n",
    "\n",
    "api = tweepy.API(auth)\n",
    "\n",
    "\n",
    "\n",
    "\"\"\"\n",
    "\n",
    "    LISTENER FOR MESSAGES FROM TWITTER\n",
    "\n",
    "\n",
    "\"\"\"\n",
    "\n",
    "class MoscowStreamListener(tweepy.StreamListener):\n",
    "    \n",
    "    def on_data(self, raw_data):\n",
    "\n",
    "        data = json.loads(raw_data)\n",
    "\n",
    "        if \"extended_tweet\" in data:\n",
    "            text = data[\"extended_tweet\"][\"full_text\"]\n",
    "            \n",
    "            #print(text)\n",
    "            \n",
    "            # put message into Kafka\n",
    "            producer.send(topic_name, text.encode(\"utf-8\"))\n",
    "        else:\n",
    "            if \"text\" in data:\n",
    "                text = data[\"text\"].lower()\n",
    "                \n",
    "                #print(data[\"text\"])\n",
    "                \n",
    "                # put message into Kafka\n",
    "                producer.send(topic_name, data[\"text\"].encode(\"utf-8\"))\n",
    "\n",
    "\n",
    "\"\"\"\n",
    "\n",
    "    RUN PROCESSING\n",
    "\n",
    "\n",
    "\"\"\"\n",
    "\n",
    "\n",
    "# Create instance of custom listener\n",
    "moscowStreamListener = MoscowStreamListener()\n",
    "\n",
    "# Set stream for twitter api with custom listener\n",
    "moscowStream = tweepy.Stream(auth=api.auth, listener=moscowStreamListener)\n",
    "\n",
    "# Region that approximately corresponds to Moscow\n",
    "region = [34.80, 49.87, 149.41, 74.13]\n",
    "\n",
    "# Start filtering messages\n",
    "moscowStream.filter(locations=region)\n"
   ]
  },
  {
   "cell_type": "markdown",
   "metadata": {},
   "source": [
    "<a name=\"3\"></a>\n",
    "<div style=\"display:table; width:100%; padding-top:10px; padding-bottom:10px; border-bottom:1px solid lightgrey\">\n",
    "    <div style=\"display:table-row\">\n",
    "        <div style=\"display:table-cell; width:80%; font-size:14pt; font-weight:bold\">3. Kafka Consumer and Spark Streaming Word Count</div>\n",
    "    \t<div style=\"display:table-cell; width:20%; text-align:center; background-color:whitesmoke; border:1px solid lightgrey\"><a href=\"#0\">To contents</a></div>\n",
    "    </div>\n",
    "</div>"
   ]
  },
  {
   "cell_type": "code",
   "execution_count": null,
   "metadata": {},
   "outputs": [],
   "source": [
    "# !!! COPY CONTENT OF THIS CELL AND PAST IT INTO SEPERATE PY FILE TO RUN IN TERMINAL !!!\n",
    "\n",
    "# -*- coding: utf-8 -*-\n",
    "\n",
    "import sys\n",
    "\n",
    "from pyspark import SparkContext\n",
    "from pyspark.streaming import StreamingContext\n",
    "from pyspark.streaming.kafka import KafkaUtils\n",
    "\n",
    "\n",
    "# Kafka parameters\n",
    "zk_server = \"localhost:2181\" # Zookeeper Server\n",
    "topic = \"tweets-kafka\" # Topic Name\n",
    "\n",
    "\n",
    "# Update word count\n",
    "def update_total_count(currentCount, countState):\n",
    "    if countState is None:\n",
    "        countState = 0\n",
    "    return sum(currentCount, countState)\n",
    "\n",
    "# Create Spark Context\n",
    "sc = SparkContext(appName=\"KafkaTwitterWordCount\")\n",
    "\n",
    "sc.setLogLevel(\"OFF\")\n",
    "\n",
    "# Create Streaming Context\n",
    "ssc = StreamingContext(sc, 10)\n",
    "\n",
    "# Set checkpoint and put directory for storage\n",
    "ssc.checkpoint(\"tmp_spark_streaming1\")\n",
    "\n",
    "# Subscribe to Kafka Topic \"tweets-kafka\" and create DStream\n",
    "kafka_stream = KafkaUtils.createStream(ssc, zk_server, \"spark-streaming-consumer\", {topic: 1})\n",
    "\n",
    "# Exctract just messages (works on RDD that is mini-batch)\n",
    "lines = kafka_stream.map(lambda x: x[1])\n",
    "\n",
    "# Count words for each RDD (mini-batch)\n",
    "counts = lines.flatMap(lambda line: line.split()).map(lambda word: (word, 1)).reduceByKey(lambda x1, x2: x1 + x2)\n",
    "\n",
    "# Update word counts\n",
    "total_counts = counts.updateStateByKey(update_total_count)\n",
    "\n",
    "# Sort by counts\n",
    "total_counts_sorted = total_counts.transform(lambda x_rdd: x_rdd.sortBy(lambda x: -x[1]))\n",
    "\n",
    "# Print result\n",
    "total_counts_sorted.pprint()\n",
    "\n",
    "# Start Spark Streaming\n",
    "ssc.start()\n",
    "\n",
    "# Waiting for termination\n",
    "ssc.awaitTermination()"
   ]
  },
  {
   "cell_type": "markdown",
   "metadata": {},
   "source": [
    "<a name=\"4\"></a>\n",
    "<div style=\"display:table; width:100%; padding-top:10px; padding-bottom:10px; border-bottom:1px solid lightgrey\">\n",
    "    <div style=\"display:table-row\">\n",
    "        <div style=\"display:table-cell; width:80%; font-size:14pt; font-weight:bold\">4. Run and Test</div>\n",
    "    \t<div style=\"display:table-cell; width:20%; text-align:center; background-color:whitesmoke; border:1px solid lightgrey\"><a href=\"#0\">To contents</a></div>\n",
    "    </div>\n",
    "</div>"
   ]
  },
  {
   "cell_type": "markdown",
   "metadata": {},
   "source": [
    "<p>Create two py files for Kafka Producer with Twitter API connection (kafka_producer_tweets.py) and for Spark Streaming word count (spark_streaming_wordcount_kafka.py)</p>"
   ]
  },
  {
   "cell_type": "markdown",
   "metadata": {},
   "source": [
    "<p>Open three terminals</p>"
   ]
  },
  {
   "cell_type": "markdown",
   "metadata": {},
   "source": [
    "<p>Run the command below to launch consumer in the first terminal to test Kafka Producer with tweets</p>"
   ]
  },
  {
   "cell_type": "code",
   "execution_count": null,
   "metadata": {},
   "outputs": [],
   "source": [
    "kafka-console-consumer --zookeeper localhost:2181 --topic tweets-kafka --from-beginning"
   ]
  },
  {
   "cell_type": "markdown",
   "metadata": {},
   "source": [
    "<p>Run python file with Kafka Producer. If you uncomment print functions in MoscowStreamListener, you will see messages in terminal</p>"
   ]
  },
  {
   "cell_type": "code",
   "execution_count": null,
   "metadata": {},
   "outputs": [],
   "source": [
    "python /YOUR_PATH/kafka_producer_tweets.py"
   ]
  },
  {
   "cell_type": "markdown",
   "metadata": {},
   "source": [
    "<p>Tweets should appear in the terminal with the consumer. You can close the consumer, if everything works well</p>"
   ]
  },
  {
   "cell_type": "markdown",
   "metadata": {},
   "source": [
    "<p>Now run the spark streaming application in the third terminal as follow</p>"
   ]
  },
  {
   "cell_type": "code",
   "execution_count": null,
   "metadata": {},
   "outputs": [],
   "source": [
    "spark-submit --master local[2] /YOUR_PATH/spark_streaming_wordcount_kafka.py"
   ]
  },
  {
   "cell_type": "markdown",
   "metadata": {},
   "source": [
    "<p>After application deployment you should see word counts for all input tweets. The list will be refreshed each 10 seconds in accordance with the batch interval value</p>"
   ]
  },
  {
   "cell_type": "markdown",
   "metadata": {},
   "source": [
    "<a name=\"5\"></a>\n",
    "<div style=\"display:table; width:100%; padding-top:10px; padding-bottom:10px; border-bottom:1px solid lightgrey\">\n",
    "    <div style=\"display:table-row\">\n",
    "        <div style=\"display:table-cell; width:80%; font-size:14pt; font-weight:bold\">5. Sources</div>\n",
    "    \t<div style=\"display:table-cell; width:20%; text-align:center; background-color:whitesmoke; border:1px solid lightgrey\"><a href=\"#0\">To contents</a></div>\n",
    "    </div>\n",
    "</div>"
   ]
  },
  {
   "cell_type": "code",
   "execution_count": null,
   "metadata": {},
   "outputs": [],
   "source": [
    "http://kafka-python.readthedocs.io/en/master/apidoc/KafkaClient.html\n",
    "https://kafka.apache.org/0100/documentation/#configuration\n",
    "https://spark.apache.org/docs/2.2.0/streaming-kafka-0-8-integration.html"
   ]
  }
 ],
 "metadata": {
  "kernelspec": {
   "display_name": "Python 3",
   "language": "python",
   "name": "python3"
  },
  "language_info": {
   "codemirror_mode": {
    "name": "ipython",
    "version": 3
   },
   "file_extension": ".py",
   "mimetype": "text/x-python",
   "name": "python",
   "nbconvert_exporter": "python",
   "pygments_lexer": "ipython3",
   "version": "3.6.3"
  }
 },
 "nbformat": 4,
 "nbformat_minor": 2
}
